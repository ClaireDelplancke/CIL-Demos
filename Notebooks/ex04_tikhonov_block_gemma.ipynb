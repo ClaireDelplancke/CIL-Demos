{
 "cells": [
  {
   "cell_type": "code",
   "execution_count": null,
   "metadata": {},
   "outputs": [],
   "source": [
    "#========================================================================\n",
    "# Copyright 2019 Science Technology Facilities Council\n",
    "# Copyright 2019 University of Manchester\n",
    "#\n",
    "# This work is part of the Core Imaging Library developed by Science Technology\t\n",
    "# Facilities Council and University of Manchester\n",
    "#\n",
    "# Licensed under the Apache License, Version 2.0 (the \"License\");\n",
    "# you may not use this file except in compliance with the License.\n",
    "# You may obtain a copy of the License at\n",
    "#\n",
    "# http://www.apache.org/licenses/LICENSE-2.0.txt\n",
    "# \n",
    "# Unless required by applicable law or agreed to in writing, software\n",
    "# distributed under the License is distributed on an \"AS IS\" BASIS,\n",
    "# WITHOUT WARRANTIES OR CONDITIONS OF ANY KIND, either express or implied.\n",
    "# See the License for the specific language governing permissions and\n",
    "# limitations under the License.\n",
    "# \n",
    "#========================================================================="
   ]
  },
  {
   "cell_type": "markdown",
   "metadata": {},
   "source": [
    "## Tikhonov regularisation using CGLS and block framework\n",
    "Few lines intro"
   ]
  },
  {
   "cell_type": "markdown",
   "metadata": {},
   "source": [
    "**Learning objectives:**\n",
    "1. Construct and manipulate BlockOperators and BlockDataContainer, including direct and adjoint operations and algebra.\n",
    "2. Use Block Framework to solve Tikhonov regularisation with CGLS algorithm.\n",
    "3. Apply Tikhonov regularisation to tomographic reconstruction and explain the effect of regularization parameter and operator in regulariser."
   ]
  },
  {
   "cell_type": "code",
   "execution_count": null,
   "metadata": {},
   "outputs": [],
   "source": []
  },
  {
   "cell_type": "code",
   "execution_count": null,
   "metadata": {},
   "outputs": [],
   "source": [
    "from ccpi.framework import ImageGeometry, ImageData \n",
    "from ccpi.framework import AcquisitionGeometry, AcquisitionData\n",
    "from ccpi.framework import BlockDataContainer\n",
    "\n",
    "from ccpi.optimisation.algorithms import CGLS\n",
    "from ccpi.optimisation.operators import BlockOperator, Gradient, Identity\n",
    "\n",
    "from ccpi.astra.operators import AstraProjectorSimple \n",
    "\n",
    "import astra.functions\n",
    "\n",
    "import tomophantom\n",
    "from tomophantom import TomoP2D\n",
    "\n",
    "import numpy as np                          \n",
    "import matplotlib.pyplot as plt\n",
    "\n",
    "import os"
   ]
  },
  {
   "cell_type": "code",
   "execution_count": null,
   "metadata": {},
   "outputs": [],
   "source": [
    "#set up aquistion geometry\n",
    "number_pixels_x = 1024\n",
    "number_projections = 180\n",
    "angles = np.linspace(0, np.pi, number_projections, dtype=np.float32)\n",
    "ag = AcquisitionGeometry(geom_type='parallel', dimension='2D', angles=angles, pixel_num_h=number_pixels_x)\n",
    "\n",
    "#set up image geometry\n",
    "num_voxels_xy = 1024\n",
    "ig = ImageGeometry(voxel_num_x = num_voxels_xy, voxel_num_y = num_voxels_xy)"
   ]
  },
  {
   "cell_type": "code",
   "execution_count": null,
   "metadata": {},
   "outputs": [],
   "source": [
    "# Load Shepp-Logan phantom \n",
    "model = 1\n",
    "path = os.path.dirname(tomophantom.__file__)\n",
    "path_library2D = os.path.join(path, \"Phantom2DLibrary.dat\")\n",
    "\n",
    "#tomophantom takes angular input in degrees\n",
    "phantom_2D = TomoP2D.Model(model, num_voxels_xy, path_library2D)\n",
    "phantom_sino = TomoP2D.ModelSino(model, num_voxels_xy, number_pixels_x, angles*180./np.pi, path_library2D)\n",
    "\n",
    "sinogram = AcquisitionData(phantom_sino)"
   ]
  },
  {
   "cell_type": "code",
   "execution_count": null,
   "metadata": {},
   "outputs": [],
   "source": [
    "#add Poisson noise to the sinogram\n",
    "data_noisy = astra.functions.add_noise_to_sino(sinogram.as_array(),400)\n",
    "\n",
    "sinogram_noisy = ag.allocate()\n",
    "sinogram_noisy.fill(data_noisy)"
   ]
  },
  {
   "cell_type": "code",
   "execution_count": null,
   "metadata": {},
   "outputs": [],
   "source": [
    "#plot the sinograms\n",
    "fig, (ax1, ax2) = plt.subplots(1, 2,figsize=(10,5))\n",
    "plt.subplots_adjust(wspace = 0.5)\n",
    "\n",
    "ax1.set_title('Simulated aquistion data')\n",
    "subplot1 = ax1.imshow(sinogram.as_array())\n",
    "ax1.set_aspect('auto')\n",
    "plt.colorbar(subplot1, ax=ax1,fraction=0.046, pad=0.04)\n",
    "\n",
    "ax2.set_title('Noisy aquistion Data')\n",
    "subplot2 = ax2.imshow(sinogram_noisy.as_array())\n",
    "ax2.set_aspect('auto')\n",
    "plt.colorbar(subplot2, ax=ax2,fraction=0.046, pad=0.04)\n",
    "plt.show()"
   ]
  },
  {
   "cell_type": "markdown",
   "metadata": {},
   "source": [
    "### Reconstruct using CGLS"
   ]
  },
  {
   "cell_type": "code",
   "execution_count": null,
   "metadata": {},
   "outputs": [],
   "source": [
    "#define the projector\n",
    "device = \"gpu\"\n",
    "Aop = AstraProjectorSimple(ig, ag, device)"
   ]
  },
  {
   "cell_type": "markdown",
   "metadata": {},
   "source": [
    "#### Reconstruct the clean dataset"
   ]
  },
  {
   "cell_type": "code",
   "execution_count": null,
   "metadata": {},
   "outputs": [],
   "source": [
    "#setup CGLS simple\n",
    "x_init = ig.allocate()      \n",
    "cgls = CGLS(x_init=x_init, operator=Aop, data=sinogram)\n",
    "#cgls = CGLS(x_init=x_init, operator=Aop, data=sinogram_noisy)\n",
    "cgls.max_iteration = 1000\n",
    "cgls.update_objective_interval = 100"
   ]
  },
  {
   "cell_type": "code",
   "execution_count": null,
   "metadata": {},
   "outputs": [],
   "source": [
    "#run the algorithm\n",
    "cgls.run(1000, verbose = True)"
   ]
  },
  {
   "cell_type": "code",
   "execution_count": null,
   "metadata": {},
   "outputs": [],
   "source": [
    "# Show Results and residuals\n",
    "fig, (ax1, ax2) = plt.subplots(1, 2,figsize=(10,5))\n",
    "plt.subplots_adjust(wspace = 0.5)\n",
    "subplot1 = ax1.imshow(cgls.get_output().as_array())\n",
    "#subplot1.clim(0,2)\n",
    "ax1.set_title('CGLS reconstruction')\n",
    "subplot2 = ax2.imshow(cgls.get_output().as_array() - phantom_2D)\n",
    "ax2.set_title('Residuals')\n",
    "plt.colorbar(subplot1, ax=ax1,fraction=0.046, pad=0.04)\n",
    "plt.colorbar(subplot2, ax=ax2,fraction=0.046, pad=0.04)\n",
    "plt.show()"
   ]
  },
  {
   "cell_type": "markdown",
   "metadata": {},
   "source": [
    "#### Reconstruct the noisy dataset"
   ]
  },
  {
   "cell_type": "code",
   "execution_count": null,
   "metadata": {},
   "outputs": [],
   "source": [
    "#setup CGLS simple\n",
    "x_init = ig.allocate()      \n",
    "#cgls = CGLS(x_init=x_init, operator=Aop, data=sinogram)\n",
    "cgls = CGLS(x_init=x_init, operator=Aop, data=sinogram_noisy)\n",
    "cgls.max_iteration = 1000\n",
    "cgls.update_objective_interval = 100"
   ]
  },
  {
   "cell_type": "code",
   "execution_count": null,
   "metadata": {},
   "outputs": [],
   "source": [
    "#run the algorithm\n",
    "cgls.run(1000, verbose = True)"
   ]
  },
  {
   "cell_type": "code",
   "execution_count": null,
   "metadata": {},
   "outputs": [],
   "source": [
    "# Show Results and residuals\n",
    "fig, (ax1, ax2) = plt.subplots(1, 2,figsize=(10,5))\n",
    "plt.subplots_adjust(wspace = 0.5)\n",
    "subplot1 = ax1.imshow(cgls.get_output().as_array())\n",
    "ax1.set_title('CGLS reconstruction')\n",
    "subplot2 = ax2.imshow(cgls.get_output().as_array() - phantom_2D)\n",
    "ax2.set_title('Residuals')\n",
    "plt.colorbar(subplot1, ax=ax1,fraction=0.046, pad=0.04)\n",
    "plt.colorbar(subplot2, ax=ax2,fraction=0.046, pad=0.04)\n",
    "#subplot1.set_clim(-1.5, 1.5)\n",
    "plt.show()"
   ]
  },
  {
   "cell_type": "markdown",
   "metadata": {},
   "source": [
    "### Reconstruct the noisy dataset using regularised CGLS"
   ]
  },
  {
   "cell_type": "markdown",
   "metadata": {},
   "source": [
    "#### Using the identity operator"
   ]
  },
  {
   "cell_type": "code",
   "execution_count": null,
   "metadata": {},
   "outputs": [],
   "source": [
    "# Setup and run the regularised CGLS\n",
    "alpha = 20\n",
    "Id = Identity(ig)\n",
    "\n",
    "# Form Tikhonov as a Block CGLS structure\n",
    "op_CGLS = BlockOperator( Aop, alpha * Id, shape=(2,1))\n",
    "block_data = BlockDataContainer(sinogram_noisy, Id.range_geometry().allocate())"
   ]
  },
  {
   "cell_type": "code",
   "execution_count": null,
   "metadata": {},
   "outputs": [],
   "source": [
    "#setup CGLS with the Block Operator and Block DataContainer\n",
    "x_init = ig.allocate()      \n",
    "cgls = CGLS(x_init=x_init, operator=op_CGLS, data=block_data)\n",
    "cgls.max_iteration = 1000\n",
    "cgls.update_objective_interval = 100"
   ]
  },
  {
   "cell_type": "code",
   "execution_count": null,
   "metadata": {},
   "outputs": [],
   "source": [
    "#run the algorithm\n",
    "cgls.run(1000, verbose = True)"
   ]
  },
  {
   "cell_type": "code",
   "execution_count": null,
   "metadata": {},
   "outputs": [],
   "source": [
    "# Show Results and residuals\n",
    "fig, (ax1, ax2) = plt.subplots(1, 2,figsize=(10,5))\n",
    "plt.subplots_adjust(wspace = 0.5)\n",
    "subplot1 = ax1.imshow(cgls.get_output().as_array())\n",
    "ax1.set_title('CGLS reconstruction')\n",
    "subplot2 = ax2.imshow(cgls.get_output().as_array() - phantom_2D)\n",
    "ax2.set_title('Residuals')\n",
    "plt.colorbar(subplot1, ax=ax1,fraction=0.046, pad=0.04)\n",
    "plt.colorbar(subplot2, ax=ax2,fraction=0.046, pad=0.04)\n",
    "plt.show()"
   ]
  },
  {
   "cell_type": "markdown",
   "metadata": {},
   "source": [
    "#### Using the gradient operator"
   ]
  },
  {
   "cell_type": "code",
   "execution_count": null,
   "metadata": {},
   "outputs": [],
   "source": [
    "# Setup and run the regularised CGLS\n",
    "alpha = 50\n",
    "Grad = Gradient(ig)\n",
    "\n",
    "# Form Tikhonov as a Block CGLS structure\n",
    "op_CGLS = BlockOperator( Aop, alpha * Grad, shape=(2,1))\n",
    "block_data = BlockDataContainer(sinogram_noisy, Grad.range_geometry().allocate())"
   ]
  },
  {
   "cell_type": "code",
   "execution_count": null,
   "metadata": {},
   "outputs": [],
   "source": [
    "#setup CGLS with the block operator and block data\n",
    "x_init = ig.allocate()      \n",
    "cgls = CGLS(x_init=x_init, operator=op_CGLS, data=block_data)\n",
    "cgls.max_iteration = 1000\n",
    "cgls.update_objective_interval = 100"
   ]
  },
  {
   "cell_type": "code",
   "execution_count": null,
   "metadata": {},
   "outputs": [],
   "source": [
    "#run the algorithm\n",
    "cgls.run(1000, verbose = True)"
   ]
  },
  {
   "cell_type": "code",
   "execution_count": null,
   "metadata": {},
   "outputs": [],
   "source": [
    "# Show Results and residuals\n",
    "fig, (ax1, ax2) = plt.subplots(1, 2,figsize=(10,5))\n",
    "plt.subplots_adjust(wspace = 0.5)\n",
    "subplot1 = ax1.imshow(cgls.get_output().as_array())\n",
    "ax1.set_title('CGLS reconstruction')\n",
    "subplot2 = ax2.imshow(cgls.get_output().as_array() - phantom_2D)\n",
    "ax2.set_title('Residuals')\n",
    "plt.colorbar(subplot1, ax=ax1,fraction=0.046, pad=0.04)\n",
    "plt.colorbar(subplot2, ax=ax2,fraction=0.046, pad=0.04)\n",
    "plt.show()"
   ]
  },
  {
   "cell_type": "markdown",
   "metadata": {},
   "source": [
    "# The gradient as a block operator"
   ]
  },
  {
   "cell_type": "code",
   "execution_count": null,
   "metadata": {},
   "outputs": [],
   "source": []
  },
  {
   "cell_type": "code",
   "execution_count": null,
   "metadata": {},
   "outputs": [],
   "source": []
  },
  {
   "cell_type": "code",
   "execution_count": null,
   "metadata": {},
   "outputs": [],
   "source": []
  },
  {
   "cell_type": "code",
   "execution_count": null,
   "metadata": {},
   "outputs": [],
   "source": []
  },
  {
   "cell_type": "code",
   "execution_count": null,
   "metadata": {},
   "outputs": [],
   "source": []
  },
  {
   "cell_type": "code",
   "execution_count": null,
   "metadata": {},
   "outputs": [],
   "source": []
  }
 ],
 "metadata": {
  "kernelspec": {
   "display_name": "Python [conda env:.conda-cil_19.07]",
   "language": "python",
   "name": "conda-env-.conda-cil_19.07-py"
  },
  "language_info": {
   "codemirror_mode": {
    "name": "ipython",
    "version": 3
   },
   "file_extension": ".py",
   "mimetype": "text/x-python",
   "name": "python",
   "nbconvert_exporter": "python",
   "pygments_lexer": "ipython3",
   "version": "3.6.7"
  }
 },
 "nbformat": 4,
 "nbformat_minor": 2
}
