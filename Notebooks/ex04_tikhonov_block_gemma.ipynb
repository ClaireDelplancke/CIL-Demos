{
 "cells": [
  {
   "cell_type": "code",
   "execution_count": null,
   "metadata": {
    "slideshow": {
     "slide_type": "skip"
    }
   },
   "outputs": [],
   "source": [
    "#========================================================================\n",
    "# Copyright 2019 Science Technology Facilities Council\n",
    "# Copyright 2019 University of Manchester\n",
    "#\n",
    "# This work is part of the Core Imaging Library developed by Science Technology\t\n",
    "# Facilities Council and University of Manchester\n",
    "#\n",
    "# Licensed under the Apache License, Version 2.0 (the \"License\");\n",
    "# you may not use this file except in compliance with the License.\n",
    "# You may obtain a copy of the License at\n",
    "#\n",
    "# http://www.apache.org/licenses/LICENSE-2.0.txt\n",
    "# \n",
    "# Unless required by applicable law or agreed to in writing, software\n",
    "# distributed under the License is distributed on an \"AS IS\" BASIS,\n",
    "# WITHOUT WARRANTIES OR CONDITIONS OF ANY KIND, either express or implied.\n",
    "# See the License for the specific language governing permissions and\n",
    "# limitations under the License.\n",
    "# \n",
    "#========================================================================="
   ]
  },
  {
   "cell_type": "markdown",
   "metadata": {
    "slideshow": {
     "slide_type": "slide"
    }
   },
   "source": [
    "## Tikhonov regularisation using CGLS and block framework\n",
    "Few lines intro"
   ]
  },
  {
   "cell_type": "markdown",
   "metadata": {
    "slideshow": {
     "slide_type": "fragment"
    }
   },
   "source": [
    "**Learning objectives:**\n",
    "1. Construct and manipulate BlockOperators and BlockDataContainer, including direct and adjoint operations and algebra.\n",
    "2. Use Block Framework to solve Tikhonov regularisation with CGLS algorithm.\n",
    "3. Apply Tikhonov regularisation to tomographic reconstruction and explain the effect of regularization parameter and operator in regulariser."
   ]
  },
  {
   "cell_type": "code",
   "execution_count": null,
   "metadata": {
    "slideshow": {
     "slide_type": "skip"
    }
   },
   "outputs": [],
   "source": [
    "#imports\n",
    "from ccpi.framework import ImageGeometry, ImageData \n",
    "from ccpi.framework import AcquisitionGeometry, AcquisitionData\n",
    "from ccpi.framework import BlockDataContainer\n",
    "from ccpi.framework import TestData\n",
    "\n",
    "from ccpi.optimisation.algorithms import CGLS\n",
    "from ccpi.optimisation.operators import BlockOperator, Gradient, Identity\n",
    "\n",
    "from ccpi.astra.operators import AstraProjectorSimple \n",
    "\n",
    "import astra.functions\n",
    "\n",
    "import tomophantom\n",
    "from tomophantom import TomoP2D\n",
    "\n",
    "import numpy as np                          \n",
    "import matplotlib.pyplot as plt\n",
    "\n",
    "import os"
   ]
  },
  {
   "cell_type": "code",
   "execution_count": null,
   "metadata": {
    "slideshow": {
     "slide_type": "skip"
    }
   },
   "outputs": [],
   "source": [
    "def plot2D(datacontainer1, title1, datacontainer2, title2):\n",
    "    fig, (ax1, ax2) = plt.subplots(1, 2,figsize=(15,15))\n",
    "    plt.subplots_adjust(wspace = 0.5)\n",
    "    \n",
    "    ax1.set_title(title1)\n",
    "    subplot1 = ax1.imshow(datacontainer1.as_array())\n",
    "    plt.colorbar(subplot1, ax=ax1,fraction=0.0467, pad=0.02)\n",
    "\n",
    "    ax2.set_title(title2)\n",
    "    subplot2 = ax2.imshow(datacontainer2.as_array())\n",
    "    plt.colorbar(subplot2, ax=ax2,fraction=0.0467, pad=0.02)\n",
    "        \n",
    "    plt.show()"
   ]
  },
  {
   "cell_type": "markdown",
   "metadata": {
    "slideshow": {
     "slide_type": "slide"
    }
   },
   "source": [
    "### Setting up the dataset - 2D"
   ]
  },
  {
   "cell_type": "code",
   "execution_count": null,
   "metadata": {
    "slideshow": {
     "slide_type": "subslide"
    }
   },
   "outputs": [],
   "source": [
    "#set up acquisition geometry\n",
    "number_pixels_x = 1024\n",
    "number_projections = 180\n",
    "angles = np.linspace(0, np.pi, number_projections, dtype=np.float32)\n",
    "ag = AcquisitionGeometry(geom_type='parallel', dimension='2D', angles=angles, pixel_num_h=number_pixels_x)\n",
    "\n",
    "#set up image geometry\n",
    "num_voxels_xy = 1024\n",
    "ig = ImageGeometry(voxel_num_x = num_voxels_xy, voxel_num_y = num_voxels_xy)"
   ]
  },
  {
   "cell_type": "code",
   "execution_count": null,
   "metadata": {
    "slideshow": {
     "slide_type": "subslide"
    }
   },
   "outputs": [],
   "source": [
    "# Load Shepp-Logan phantom \n",
    "model = 1\n",
    "path = os.path.dirname(tomophantom.__file__)\n",
    "path_library2D = os.path.join(path, \"Phantom2DLibrary.dat\")\n",
    "\n",
    "#tomophantom takes angular input in degrees\n",
    "phantom_2D = TomoP2D.Model(model, num_voxels_xy, path_library2D)\n",
    "phantom_sino = TomoP2D.ModelSino(model, num_voxels_xy, number_pixels_x, angles*180./np.pi, path_library2D)\n",
    "\n",
    "model = ig.allocate()\n",
    "model.fill(phantom_2D)\n",
    "\n",
    "sinogram = ag.allocate()\n",
    "sinogram.fill(phantom_sino)"
   ]
  },
  {
   "cell_type": "code",
   "execution_count": null,
   "metadata": {
    "slideshow": {
     "slide_type": "subslide"
    }
   },
   "outputs": [],
   "source": [
    "#add Poisson noise to the sinogram data\n",
    "data_noisy = astra.functions.add_noise_to_sino(sinogram.as_array(),400)\n",
    "\n",
    "sinogram_noisy = ag.allocate()\n",
    "sinogram_noisy.fill(data_noisy)"
   ]
  },
  {
   "cell_type": "code",
   "execution_count": null,
   "metadata": {
    "scrolled": true,
    "slideshow": {
     "slide_type": "subslide"
    }
   },
   "outputs": [],
   "source": [
    "plot2D(sinogram, \"sinogram\", sinogram_noisy, \"sinogram noisy\")"
   ]
  },
  {
   "cell_type": "markdown",
   "metadata": {
    "slideshow": {
     "slide_type": "slide"
    }
   },
   "source": [
    "<a id=\"section_CGLS_simple\"></a>\n",
    "### Reconstruct using unregularised CGLS"
   ]
  },
  {
   "cell_type": "markdown",
   "metadata": {
    "slideshow": {
     "slide_type": "subslide"
    }
   },
   "source": [
    "Solve:\n",
    "$$\\underset{x}{\\mathrm{argmin}}\\begin{Vmatrix}A x - b\\end{Vmatrix}^2_2$$\n",
    "\n",
    "where,\n",
    "\n",
    "- $A$ is the projection operator\n",
    "\n",
    "- $b$ is the acquired data\n",
    "\n",
    "- $x$ is the solution\n",
    "\n"
   ]
  },
  {
   "cell_type": "code",
   "execution_count": null,
   "metadata": {
    "slideshow": {
     "slide_type": "fragment"
    }
   },
   "outputs": [],
   "source": [
    "#define the operator A\n",
    "device = \"gpu\"\n",
    "operator = AstraProjectorSimple(ig, ag, device)"
   ]
  },
  {
   "cell_type": "code",
   "execution_count": null,
   "metadata": {
    "slideshow": {
     "slide_type": "fragment"
    }
   },
   "outputs": [],
   "source": [
    "#define the data b\n",
    "data = sinogram"
   ]
  },
  {
   "cell_type": "code",
   "execution_count": null,
   "metadata": {
    "slideshow": {
     "slide_type": "fragment"
    }
   },
   "outputs": [],
   "source": [
    "#setup CGLS\n",
    "x_init = ig.allocate()\n",
    "cgls = CGLS(x_init=x_init, operator=operator, data=data)\n",
    "cgls.max_iteration = 1000\n",
    "cgls.update_objective_interval = 100"
   ]
  },
  {
   "cell_type": "code",
   "execution_count": null,
   "metadata": {
    "slideshow": {
     "slide_type": "subslide"
    }
   },
   "outputs": [],
   "source": [
    "#run the algorithm\n",
    "cgls.run(1000, verbose = True)"
   ]
  },
  {
   "cell_type": "code",
   "execution_count": null,
   "metadata": {
    "slideshow": {
     "slide_type": "subslide"
    }
   },
   "outputs": [],
   "source": [
    "#plot the results\n",
    "residuals = ig.allocate()\n",
    "residuals.fill(cgls.get_output().as_array()- model.as_array())\n",
    "plot2D(cgls.get_output(), \"CGLS reconstruction\", residuals, \"Residuals\")"
   ]
  },
  {
   "cell_type": "markdown",
   "metadata": {
    "slideshow": {
     "slide_type": "skip"
    }
   },
   "source": [
    "**Exercise: Repeat this with the noisy dataset** [go to section start](#section_CGLS_simple)"
   ]
  },
  {
   "cell_type": "markdown",
   "metadata": {
    "slideshow": {
     "slide_type": "slide"
    }
   },
   "source": [
    "### Reconstruct using regularised CGLS"
   ]
  },
  {
   "cell_type": "markdown",
   "metadata": {
    "slideshow": {
     "slide_type": "subslide"
    }
   },
   "source": [
    "#### Regularisation\n",
    "\n",
    "Noisy datasets lead to an ill-posed problem. If we try to solve these using LS we end up with a noisy reconstruction. Regularisation adds information in order for us to solve the problem."
   ]
  },
  {
   "cell_type": "markdown",
   "metadata": {
    "slideshow": {
     "slide_type": "subslide"
    }
   },
   "source": [
    "#### CGLS and regularisation\n",
    "\n",
    "Adding a differentiable regulariser...\n",
    "\n",
    "Identity\n",
    "\n",
    "gradient\n",
    "\n",
    "\n",
    "\n",
    "Solve:\n",
    "$$\\underset{x}{\\mathrm{argmin}}\\begin{Vmatrix}A x - b \\end{Vmatrix}^2_2 + \\alpha\\|Lx\\|^2_2$$\n",
    "\n",
    "\n",
    "where,\n",
    "\n",
    "- $A$ is the projection operator\n",
    "\n",
    "- $b$ is the acquired data\n",
    "\n",
    "- $x$ is the solution\n",
    "\n",
    "- $\\alpha$ is the regularisation parameter\n",
    "\n",
    "- $L$ is a regularisation operator\n",
    "\n",
    "<br>This can be re-written in the form:\n",
    "\n",
    "$$\\underset{x}{\\mathrm{argmin}}\\begin{Vmatrix}\\binom{A}{\\alpha L} x - \\binom{b}{0}\\end{Vmatrix}^2_2$$\n",
    "\n",
    "Which allows us to solve it using CGLS in the form:\n",
    "\n",
    "$$\\underset{x}{\\mathrm{argmin}}\\begin{Vmatrix}\\tilde{A} x - \\tilde{b}\\end{Vmatrix}^2_2$$\n",
    "\n",
    "where:\n",
    "\n",
    "- $\\tilde{A} = \\binom{A}{\\alpha L}$\n",
    "\n",
    "- $\\tilde{b} = \\binom{b}{0}$\n",
    "\n"
   ]
  },
  {
   "cell_type": "markdown",
   "metadata": {
    "slideshow": {
     "slide_type": "subslide"
    }
   },
   "source": [
    "#### Introducing the block framework"
   ]
  },
  {
   "cell_type": "markdown",
   "metadata": {
    "slideshow": {
     "slide_type": "subslide"
    }
   },
   "source": [
    "We can construct $\\tilde{A}$ and $\\tilde{b}$ using the BlockFramework in the CIL.\n",
    "\n",
    "$\\tilde{A}$ is a BlockOperator\n",
    "\n",
    "`BlockOperator(op0,op1)` results in a row block\n",
    "\n",
    "`BlockOperator(op0,op1,shape=(1,2))` results in a column block\n",
    "\n",
    "$\\tilde{b}$ is a BlockDataContainer\n",
    "\n",
    "`BlockDataContainer(DataContainer0, DataContainer1)`\n"
   ]
  },
  {
   "cell_type": "markdown",
   "metadata": {
    "slideshow": {
     "slide_type": "subslide"
    }
   },
   "source": [
    "<a id=\"section_CGLS_alpha\"></a>\n",
    "#### Reconstruct using CGLS and the identity operator"
   ]
  },
  {
   "cell_type": "code",
   "execution_count": null,
   "metadata": {
    "slideshow": {
     "slide_type": "fragment"
    }
   },
   "outputs": [],
   "source": [
    "#define the operator A\n",
    "device = \"gpu\"\n",
    "A = AstraProjectorSimple(ig, ag, device)\n",
    "L = Identity(ig)\n",
    "alpha = 20\n",
    "\n",
    "operator_block = BlockOperator( A, alpha * L, shape=(2,1))"
   ]
  },
  {
   "cell_type": "code",
   "execution_count": null,
   "metadata": {
    "slideshow": {
     "slide_type": "fragment"
    }
   },
   "outputs": [],
   "source": [
    "#define the data b\n",
    "data_block = BlockDataContainer(sinogram_noisy, L.range_geometry().allocate(0))"
   ]
  },
  {
   "cell_type": "markdown",
   "metadata": {
    "slideshow": {
     "slide_type": "subslide"
    }
   },
   "source": [
    "Run CGLS as before, but passing the BlockOperator and BlockDataContainer"
   ]
  },
  {
   "cell_type": "code",
   "execution_count": null,
   "metadata": {
    "slideshow": {
     "slide_type": "subslide"
    }
   },
   "outputs": [],
   "source": [
    "#setup CGLS with the Block Operator and Block DataContainer\n",
    "x_init = ig.allocate()      \n",
    "cgls = CGLS(x_init=x_init, operator=operator_block, data=data_block)\n",
    "cgls.max_iteration = 1000\n",
    "cgls.update_objective_interval = 100"
   ]
  },
  {
   "cell_type": "code",
   "execution_count": null,
   "metadata": {
    "slideshow": {
     "slide_type": "subslide"
    }
   },
   "outputs": [],
   "source": [
    "#run the algorithm\n",
    "cgls.run(1000, verbose = True)"
   ]
  },
  {
   "cell_type": "code",
   "execution_count": null,
   "metadata": {
    "slideshow": {
     "slide_type": "subslide"
    }
   },
   "outputs": [],
   "source": [
    "residuals = ig.allocate()\n",
    "residuals.fill(cgls.get_output().as_array()- model.as_array())\n",
    "plot2D(cgls.get_output(), \"CGLS reconstruction\", residuals, \"Residuals\")"
   ]
  },
  {
   "cell_type": "markdown",
   "metadata": {
    "slideshow": {
     "slide_type": "skip"
    }
   },
   "source": [
    "**Exercise: Repeat this with more regularisation** [go to section start](#section_CGLS_alpha)"
   ]
  },
  {
   "cell_type": "markdown",
   "metadata": {
    "slideshow": {
     "slide_type": "slide"
    }
   },
   "source": [
    "### A more detailed look at the BlockFramework"
   ]
  },
  {
   "cell_type": "markdown",
   "metadata": {
    "slideshow": {
     "slide_type": "subslide"
    }
   },
   "source": [
    "#### BlockDataContainer \n",
    "\n",
    "BlockDataContainer holds datacontainers as a column vector\n",
    "\n",
    "$$x = [x_{1}, x_{2} ]\\in (X_{1}\\times X_{2})$$\n",
    "$$y = [y_{1}, y_{2}, y_{3} ]\\in(Y_{1}\\times Y_{2} \\times Y_{3})$$\n",
    "\n",
    "Provides basic algebra between BlockDataContainers, DataContainers, subclasses and scalars providing the shape of the containers are compatible\n",
    "- add\n",
    "- subtract\n",
    "- multiply\n",
    "- divide\n",
    "- power\n",
    "- squared_norm\n",
    "\n"
   ]
  },
  {
   "cell_type": "markdown",
   "metadata": {
    "slideshow": {
     "slide_type": "subslide"
    }
   },
   "source": [
    "#### BlockOperator: \n",
    "\n",
    "A Block matrix with operators \n",
    "\n",
    "$$ K = \\begin{bmatrix}\n",
    "A_{1} & A_{2} \\\\\n",
    "A_{3} & A_{4} \\\\\n",
    "A_{5} & A_{6}\n",
    "\\end{bmatrix}_{(3,2)} *  \\quad \\underbrace{\\begin{bmatrix}\n",
    "x_{1} \\\\\n",
    "x_{2} \n",
    "\\end{bmatrix}_{(2,1)}}_{\\textbf{x}} =  \\begin{bmatrix}\n",
    "A_{1}x_{1}  + A_{2}x_{2}\\\\\n",
    "A_{3}x_{1}  + A_{4}x_{2}\\\\\n",
    "A_{5}x_{1}  + A_{6}x_{2}\\\\\n",
    "\\end{bmatrix}_{(3,1)} =  \\begin{bmatrix}\n",
    "y_{1}\\\\\n",
    "y_{2}\\\\\n",
    "y_{3}\n",
    "\\end{bmatrix}_{(3,1)} = \\textbf{y}$$\n",
    "\n",
    "Column: Share the same domains $X_{1}, X_{2}$<br>\n",
    "Rows: Share the same ranges $Y_{1}, Y_{2}, Y_{3}$\n",
    "\n",
    "$$ K : (X_{1}\\times X_{2}) \\rightarrow (Y_{1}\\times Y_{2} \\times Y_{3})$$\n",
    "\n",
    "\n",
    "$$ A_{1}, A_{3}, A_{5}: \\text{share the same domain }  X_{1}$$\n",
    "$$ A_{2}, A_{4}, A_{6}: \\text{share the same domain }  X_{2}$$\n",
    "\n",
    "$$A_{1}: X_{1} \\rightarrow Y_{1}, \\quad A_{3}: X_{1} \\rightarrow Y_{2}, \\quad  A_{5}: X_{1} \\rightarrow Y_{3}$$\n",
    "$$A_{2}: X_{2} \\rightarrow Y_{1}, \\quad A_{4}: X_{2} \\rightarrow Y_{2}, \\quad  A_{6}: X_{2} \\rightarrow Y_{3}$$"
   ]
  },
  {
   "cell_type": "markdown",
   "metadata": {},
   "source": [
    "##### An example: The gradient operator\n",
    "\n",
    "The gradient operator uses BlockDataContainers. ??ToDo: implement gradient as block of FD? or just leave as it is?\n",
    "\n",
    "The direct gradient operator $\\nabla$ acts on an image $u$ and returns a BlockDataContainer $\\textbf{y}$\n",
    "\n",
    "$$ \\nabla(u) = \n",
    "\\begin{bmatrix}\n",
    "   \\nabla_x\\\\\n",
    "   \\nabla_y\\\\\n",
    "   \\nabla_z\\\\\n",
    "\\end{bmatrix}\n",
    "*u =\n",
    "\\begin{bmatrix}\n",
    "    \\nabla_xu\\\\\n",
    "    \\nabla_yu\\\\\n",
    "    \\nabla_zu\\\\\n",
    "\\end{bmatrix}\n",
    "=  \n",
    "\\begin{bmatrix}y_{x}\\\\y_{y}\\\\y_{z}\\end{bmatrix}= \\textbf{y}$$\n",
    "\n",
    "The adjoint gradient operator $\\nabla^*$ acts on the BlockDataContainer $\\textbf{y}$ and returns an image $\\rho$\n",
    "\n",
    "$$  \\nabla^*(\\textbf y) = \n",
    "\\begin{bmatrix}\n",
    "    \\nabla^*_x &\n",
    "    \\nabla^*_y &\n",
    "    \\nabla^*_z\n",
    "\\end{bmatrix}\n",
    "*\n",
    "\\begin{bmatrix}\n",
    "    y_{x}\\\\\n",
    "    y_{y}\\\\\n",
    "    y_{z}\\\\\n",
    "\\end{bmatrix} \n",
    "=\n",
    "\\begin{bmatrix}\n",
    "    \\nabla^*_x y_x + \\nabla^*_y y_y + \\nabla^*_z y_z\n",
    "\\end{bmatrix} =  \\rho$$"
   ]
  },
  {
   "cell_type": "code",
   "execution_count": null,
   "metadata": {
    "slideshow": {
     "slide_type": "subslide"
    }
   },
   "outputs": [],
   "source": [
    "loader = TestData()\n",
    "image_2D = loader.load(TestData.SHAPES)\n",
    "imagegeometry = image_2D.geometry\n",
    "\n",
    "#set up the gradient operator\n",
    "op = Gradient(imagegeometry)\n",
    "\n",
    "#run the direct method\n",
    "image_2D_dxdy = op.direct(image_2D)\n",
    "\n",
    "#input is ImageData\n",
    "print(\"Input\")\n",
    "print(\"\\ttype:\\t\", type(image_2D))\n",
    "print(\"\\tshape:\\t\", image_2D.shape)\n",
    "\n",
    "#output is BloackDataContainer\n",
    "print(\"Output\")\n",
    "print(\"\\ttype:\\t\", type(image_2D_dxdy))\n",
    "print(\"\\tshape:\\t\", image_2D_dxdy.shape)\n",
    "\n",
    "print(\"\\tDataContainer 0\")\n",
    "print(\"\\t\\ttype:\\t\", type(image_2D_dxdy.get_item(0)))\n",
    "print(\"\\t\\tshape:\\t\", image_2D_dxdy.get_item(0).shape)\n",
    "\n",
    "print(\"\\tDataContainer 1\")\n",
    "print(\"\\t\\ttype:\\t\", type(image_2D_dxdy.get_item(1)))\n",
    "print(\"\\t\\tshape:\\t\", image_2D_dxdy.get_item(1).shape)\n",
    "\n",
    "plot2D(image_2D_dxdy.get_item(0), \"dx\", image_2D_dxdy.get_item(1), \"dy\")"
   ]
  },
  {
   "cell_type": "code",
   "execution_count": null,
   "metadata": {
    "slideshow": {
     "slide_type": "subslide"
    }
   },
   "outputs": [],
   "source": [
    "#split containers\n",
    "dx = image_2D_dxdy.get_item(0)\n",
    "dy = image_2D_dxdy.get_item(1)\n",
    "\n",
    "#calculate the squared norm of the x and y gradients\n",
    "dx2 = (dx**2).sum()\n",
    "dy2 = (dy**2).sum()\n",
    "sq_norm = dx2 + dy2\n",
    "print(sq_norm)"
   ]
  },
  {
   "cell_type": "code",
   "execution_count": null,
   "metadata": {
    "slideshow": {
     "slide_type": "subslide"
    }
   },
   "outputs": [],
   "source": [
    "#do the same thing within the blockframework\n",
    "sq_norm = image_2D_dxdy.squared_norm()\n",
    "print(sq_norm)"
   ]
  },
  {
   "cell_type": "markdown",
   "metadata": {},
   "source": [
    "**Exercise: Run the gradient adjoint operator**"
   ]
  },
  {
   "cell_type": "code",
   "execution_count": null,
   "metadata": {
    "scrolled": false,
    "slideshow": {
     "slide_type": "subslide"
    }
   },
   "outputs": [],
   "source": [
    "#set up the gradient operator\n",
    "op = Gradient(imagegeometry)\n",
    "\n",
    "#run the adjoint method\n",
    "adjoint_output = op.adjoint(image_2D_dxdy)\n",
    "\n",
    "plot2D(adjoint_output, \"adjoint gradient\", image_2D, \"image_2D\")"
   ]
  },
  {
   "cell_type": "markdown",
   "metadata": {
    "slideshow": {
     "slide_type": "slide"
    }
   },
   "source": [
    "### Reconstruct using regularised CGLS with Tikhonov regularisation"
   ]
  },
  {
   "cell_type": "markdown",
   "metadata": {
    "slideshow": {
     "slide_type": "fragment"
    }
   },
   "source": [
    "#### Tikhonov regularisation\n",
    "\n",
    "$$ \\underset{x}{\\mathrm{argmin}}\\begin{Vmatrix}A x - b \\end{Vmatrix}^2_2 + \\alpha\\begin{Vmatrix}\\nabla x\\end{Vmatrix}^2_2$$\n",
    "\n",
    "How much to leave as the exercise? in theory they could do all of it...\n"
   ]
  },
  {
   "cell_type": "code",
   "execution_count": null,
   "metadata": {
    "slideshow": {
     "slide_type": "fragment"
    }
   },
   "outputs": [],
   "source": [
    "#define the operator A\n",
    "device = \"gpu\"\n",
    "A = AstraProjectorSimple(ig, ag, device)\n",
    "L = Gradient(ig)\n",
    "alpha = 50\n",
    "\n",
    "operator_block = BlockOperator( A, alpha * L, shape=(2,1))"
   ]
  },
  {
   "cell_type": "code",
   "execution_count": null,
   "metadata": {
    "slideshow": {
     "slide_type": "fragment"
    }
   },
   "outputs": [],
   "source": [
    "#define the data b\n",
    "data_block = BlockDataContainer(sinogram_noisy, L.range_geometry().allocate())"
   ]
  },
  {
   "cell_type": "code",
   "execution_count": null,
   "metadata": {
    "slideshow": {
     "slide_type": "subslide"
    }
   },
   "outputs": [],
   "source": [
    "#setup CGLS with the block operator and block data\n",
    "x_init = ig.allocate()      \n",
    "cgls = CGLS(x_init=x_init, operator=operator_block, data=data_block)\n",
    "cgls.max_iteration = 1000\n",
    "cgls.update_objective_interval = 100"
   ]
  },
  {
   "cell_type": "code",
   "execution_count": null,
   "metadata": {
    "slideshow": {
     "slide_type": "subslide"
    }
   },
   "outputs": [],
   "source": [
    "#run the algorithm\n",
    "cgls.run(1000, verbose = True)"
   ]
  },
  {
   "cell_type": "code",
   "execution_count": null,
   "metadata": {
    "slideshow": {
     "slide_type": "subslide"
    }
   },
   "outputs": [],
   "source": [
    "residuals = ig.allocate()\n",
    "residuals.fill(cgls.get_output().as_array()- model.as_array())\n",
    "plot2D(cgls.get_output(), \"CGLS reconstruction\", residuals, \"Residuals\")"
   ]
  },
  {
   "cell_type": "markdown",
   "metadata": {
    "slideshow": {
     "slide_type": "slide"
    }
   },
   "source": [
    "### A 3D example"
   ]
  },
  {
   "cell_type": "code",
   "execution_count": null,
   "metadata": {},
   "outputs": [],
   "source": [
    "#load the 3d parallel beam dataset, then leave the tikhinov with cgls to user"
   ]
  },
  {
   "cell_type": "code",
   "execution_count": null,
   "metadata": {
    "slideshow": {
     "slide_type": "subslide"
    }
   },
   "outputs": [],
   "source": [
    "#diamond dataset\n",
    "\n",
    "##set up gradient in x,y and z"
   ]
  },
  {
   "cell_type": "markdown",
   "metadata": {
    "slideshow": {
     "slide_type": "slide"
    }
   },
   "source": [
    "### Summary"
   ]
  },
  {
   "cell_type": "code",
   "execution_count": null,
   "metadata": {},
   "outputs": [],
   "source": []
  },
  {
   "cell_type": "code",
   "execution_count": null,
   "metadata": {},
   "outputs": [],
   "source": []
  },
  {
   "cell_type": "code",
   "execution_count": null,
   "metadata": {},
   "outputs": [],
   "source": []
  },
  {
   "cell_type": "code",
   "execution_count": null,
   "metadata": {},
   "outputs": [],
   "source": []
  }
 ],
 "metadata": {
  "celltoolbar": "Raw Cell Format",
  "kernelspec": {
   "display_name": "Python [conda env:.conda-cil_19.07]",
   "language": "python",
   "name": "conda-env-.conda-cil_19.07-py"
  },
  "language_info": {
   "codemirror_mode": {
    "name": "ipython",
    "version": 3
   },
   "file_extension": ".py",
   "mimetype": "text/x-python",
   "name": "python",
   "nbconvert_exporter": "python",
   "pygments_lexer": "ipython3",
   "version": "3.6.7"
  }
 },
 "nbformat": 4,
 "nbformat_minor": 2
}
