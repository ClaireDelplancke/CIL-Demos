{
 "cells": [
  {
   "cell_type": "code",
   "execution_count": null,
   "metadata": {
    "slideshow": {
     "slide_type": "skip"
    }
   },
   "outputs": [],
   "source": [
    "#========================================================================\n",
    "# Copyright 2019 Science Technology Facilities Council\n",
    "# Copyright 2019 University of Manchester\n",
    "#\n",
    "# This work is part of the Core Imaging Library developed by Science Technology\t\n",
    "# Facilities Council and University of Manchester\n",
    "#\n",
    "# Licensed under the Apache License, Version 2.0 (the \"License\");\n",
    "# you may not use this file except in compliance with the License.\n",
    "# You may obtain a copy of the License at\n",
    "#\n",
    "# http://www.apache.org/licenses/LICENSE-2.0.txt\n",
    "# \n",
    "# Unless required by applicable law or agreed to in writing, software\n",
    "# distributed under the License is distributed on an \"AS IS\" BASIS,\n",
    "# WITHOUT WARRANTIES OR CONDITIONS OF ANY KIND, either express or implied.\n",
    "# See the License for the specific language governing permissions and\n",
    "# limitations under the License.\n",
    "# \n",
    "#========================================================================="
   ]
  },
  {
   "cell_type": "markdown",
   "metadata": {
    "slideshow": {
     "slide_type": "slide"
    }
   },
   "source": [
    "## Title\n",
    "Few lines intro"
   ]
  },
  {
   "cell_type": "code",
   "execution_count": null,
   "metadata": {
    "slideshow": {
     "slide_type": "slide"
    }
   },
   "outputs": [],
   "source": [
    "# d) Code etc\n",
    "# e) Results\n",
    "\n",
    "from ccpi.framework import TestData\n",
    "import os, sys\n",
    "\n",
    "from utilities import islicer\n",
    "\n",
    "load = TestData(data_dir=os.path.join(os.environ['SIRF_INSTALL_PATH'], 'share', 'ccpi') )\n",
    "data = load.load(TestData.PEPPERS, size=(400,400,3))\n",
    "\n",
    "#data.subset(horizontal_x=100)\n",
    "\n",
    "\n"
   ]
  },
  {
   "cell_type": "code",
   "execution_count": null,
   "metadata": {
    "slideshow": {
     "slide_type": "subslide"
    }
   },
   "outputs": [],
   "source": [
    "# use the interactive slicer with a DataContainer\n",
    "islicer(data, 2)\n",
    "\n",
    "# can slice also based on the actual labels of the channel\n",
    "print (data.dimension_labels)\n",
    "\n",
    "islicer(data, 'channel')"
   ]
  },
  {
   "cell_type": "code",
   "execution_count": null,
   "metadata": {},
   "outputs": [],
   "source": [
    "from ccpi.framework import *\n",
    "from ccpi.optimisation.functions import *\n",
    "from ccpi.optimisation.operators import *\n",
    "from ccpi.optimisation.algorithms import *\n",
    "import matplotlib.pyplot as plt\n",
    "%matplotlib notebook\n",
    "\n",
    "from utilities import setup_iplot2D, iplot2D\n",
    "\n",
    "ig = ImageGeometry(128,128)\n",
    "x_init = ig.allocate()\n",
    "b = ig.allocate('random')\n",
    "load = TestData(data_dir=os.path.join(os.environ['SIRF_INSTALL_PATH'], 'share', 'ccpi'))\n",
    "b = load.load(TestData.BOAT, size=(128,128))\n",
    "\n",
    "identity = Identity(ig)\n",
    "\n",
    "norm2sq = Norm2Sq(identity, b)\n",
    "rate = 0.3\n",
    "rate = norm2sq.L / 3.\n",
    "\n",
    "alg = GradientDescent(x_init=x_init, \n",
    "                      objective_function=norm2sq, \n",
    "                      rate=rate)\n",
    "alg.max_iteration = 20\n",
    "\n",
    "# this is a bit tricky as the variables that setup_iplot2D are used by iplot2D with that name    \n",
    "fig, ax, im, iterations, residuals = setup_iplot2D()\n",
    "\n",
    "alg.run(10, verbose=True, callback=iplot2D)\n"
   ]
  },
  {
   "cell_type": "markdown",
   "metadata": {
    "slideshow": {
     "slide_type": "slide"
    }
   },
   "source": [
    "### Summary"
   ]
  }
 ],
 "metadata": {
  "celltoolbar": "Slideshow",
  "kernelspec": {
   "display_name": "Python 2",
   "language": "python",
   "name": "python2"
  },
  "language_info": {
   "codemirror_mode": {
    "name": "ipython",
    "version": 2
   },
   "file_extension": ".py",
   "mimetype": "text/x-python",
   "name": "python",
   "nbconvert_exporter": "python",
   "pygments_lexer": "ipython2",
   "version": "2.7.15"
  }
 },
 "nbformat": 4,
 "nbformat_minor": 2
}
