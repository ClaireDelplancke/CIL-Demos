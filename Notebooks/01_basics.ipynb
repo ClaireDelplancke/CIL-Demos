{
 "cells": [
  {
   "cell_type": "code",
   "execution_count": null,
   "metadata": {},
   "outputs": [],
   "source": [
    "#========================================================================\n",
    "# Copyright 2019 Science Technology Facilities Council\n",
    "# Copyright 2019 University of Manchester\n",
    "#\n",
    "# This work is part of the Core Imaging Library developed by Science Technology\t\n",
    "# Facilities Council and University of Manchester\n",
    "#\n",
    "# Licensed under the Apache License, Version 2.0 (the \"License\");\n",
    "# you may not use this file except in compliance with the License.\n",
    "# You may obtain a copy of the License at\n",
    "#\n",
    "# http://www.apache.org/licenses/LICENSE-2.0.txt\n",
    "# \n",
    "# Unless required by applicable law or agreed to in writing, software\n",
    "# distributed under the License is distributed on an \"AS IS\" BASIS,\n",
    "# WITHOUT WARRANTIES OR CONDITIONS OF ANY KIND, either express or implied.\n",
    "# See the License for the specific language governing permissions and\n",
    "# limitations under the License.\n",
    "# \n",
    "#========================================================================="
   ]
  },
  {
   "cell_type": "markdown",
   "metadata": {},
   "source": [
    "## Framework basics\n",
    "### Data containers, Geometry, Processors\n",
    "\n",
    "In this excercise you will learn building blocks of the Framework. "
   ]
  },
  {
   "cell_type": "markdown",
   "metadata": {},
   "source": [
    "DataContainer is a generic class to hold data. The role of the DataContainer is to hold the data and metadata as axis labels and geometry. DataContainer have basic methods to perform algebric operations between each other and/or with numbers. \n",
    "\n",
    "ImageData and AcquisitionData are subclasses aimed at containing 2D/3D/4D data and raw data along with corresponding geometries and metadata. ImageGeometry contains metadata describing ImageData that it refers to."
   ]
  },
  {
   "cell_type": "markdown",
   "metadata": {},
   "source": [
    "Define Image geometry and allocate ImageData"
   ]
  },
  {
   "cell_type": "code",
   "execution_count": 1,
   "metadata": {},
   "outputs": [],
   "source": [
    "from ccpi.framework import ImageData, ImageGeometry\n",
    "\n",
    "# Define 2D ImageGeometry\n",
    "ig = ImageGeometry(voxel_num_y = 5, voxel_num_x = 4)\n",
    "\n",
    "# Create random ImageData with the specific geometry\n",
    "im_data1 = ig.allocate()\n",
    "im_data2 = ig.allocate('random', seed = 5)"
   ]
  },
  {
   "cell_type": "code",
   "execution_count": 2,
   "metadata": {},
   "outputs": [
    {
     "name": "stdout",
     "output_type": "stream",
     "text": [
      "Allocate with zeros \n",
      "[[0. 0. 0. 0.]\n",
      " [0. 0. 0. 0.]\n",
      " [0. 0. 0. 0.]\n",
      " [0. 0. 0. 0.]\n",
      " [0. 0. 0. 0.]]\n",
      "\n",
      "Allocate with random numbers in [0,1] \n",
      "[[0.22199318 0.8707323  0.20671916 0.91861093]\n",
      " [0.4884112  0.61174387 0.7659079  0.518418  ]\n",
      " [0.2968005  0.18772122 0.08074127 0.7384403 ]\n",
      " [0.4413092  0.15830986 0.87993705 0.27408648]\n",
      " [0.41423503 0.29607993 0.62878793 0.5798378 ]]\n",
      "\n",
      "Dimensions and Labels = (5, 4) , {0: u'horizontal_y', 1: u'horizontal_x'}\n"
     ]
    }
   ],
   "source": [
    "print('Allocate with zeros \\n{}\\n'.format(im_data1.as_array()))\n",
    "print('Allocate with random numbers in [0,1] \\n{}\\n'.format(im_data2.as_array()))\n",
    "print('Dimensions and Labels = {} , {}'.format(im_data1.shape, im_data1.dimension_labels))"
   ]
  },
  {
   "cell_type": "code",
   "execution_count": null,
   "metadata": {},
   "outputs": [],
   "source": [
    "# Define 2D + channels ImageGeometry\n",
    "ig1 = ImageGeometry(voxel_num_y = 5, voxel_num_x = 4, channels = 2)\n",
    "\n",
    "# Create random integer in [0, max_value] ImageData with the specific geometry\n",
    "im_data3 = ig1.allocate('random_int', seed = 10, max_value = 500)\n",
    "\n",
    "print('Allocate with random integers \\n{}\\n'.format(im_data3.as_array()))\n",
    "print('Dimensions and Labels =  {}'.format(im_data3.get_shape_labels(ig1)))"
   ]
  },
  {
   "cell_type": "markdown",
   "metadata": {},
   "source": [
    "The Framework has a number of test images\n",
    "\n",
    "    BOAT = 'boat.tiff'\n",
    "    CAMERA = 'camera.png'\n",
    "    PEPPERS = 'peppers.tiff'\n",
    "    RESOLUTION_CHART = 'resolution_chart.tiff'\n",
    "    SIMPLE_PHANTOM_2D = 'hotdog'\n",
    "    SHAPES = 'shapes.png'\n",
    "We load hotdog image and create a subset "
   ]
  },
  {
   "cell_type": "code",
   "execution_count": 3,
   "metadata": {},
   "outputs": [
    {
     "name": "stdout",
     "output_type": "stream",
     "text": [
      "('data.geometry', <ccpi.framework.framework.ImageGeometry object at 0x7f491159c5d0>)\n",
      "Number of channels: 1\n",
      "voxel_num : x200,y200,z0\n",
      "voxel_size : x1,y1,z1\n",
      "center : x0,y0,z0\n",
      "\n"
     ]
    }
   ],
   "source": [
    "# import TestData\n",
    "\n",
    "from ccpi.framework import TestData\n",
    "import matplotlib.pyplot as plt\n",
    "import os, sys\n",
    "\n",
    "loader = TestData(data_dir=os.path.join(sys.prefix, 'share','ccpi'))\n",
    "\n",
    "data = loader.load(TestData.SIMPLE_PHANTOM_2D, size=(200,200))\n",
    "ig = data.geometry\n",
    "\n",
    "print(ig)\n",
    "print('Dimensions and Labels =  {}'.format(data.get_shape_labels(ig)))\n",
    "\n",
    "# plot data\n",
    "plt.imshow(data.as_array())\n",
    "p"
   ]
  },
  {
   "cell_type": "markdown",
   "metadata": {},
   "source": [
    "Framework supports aa number of standard CT acquisition geometries, namely:\n",
    "    - parallel beam\n",
    "    - fan-beam\n",
    "    - conebeam.\n",
    "    \n",
    "The parallel beam geometry is the simplest one. A user needs to specify only number of pixels in a detector array."
   ]
  },
  {
   "cell_type": "code",
   "execution_count": null,
   "metadata": {},
   "outputs": [],
   "source": [
    "DataContainer provides a simple method to produce a subset of themselves based on the axis one would like to have. For instance if a DataContainer A is 3D and its axis represent temperature, width, height, one could create a reordered DataContainer by\n",
    "\n",
    "\n",
    "\n",
    "# d) Code etc\n",
    "# e) Results"
   ]
  },
  {
   "cell_type": "code",
   "execution_count": null,
   "metadata": {},
   "outputs": [],
   "source": []
  },
  {
   "cell_type": "markdown",
   "metadata": {},
   "source": [
    "### Summary"
   ]
  }
 ],
 "metadata": {
  "kernelspec": {
   "display_name": "Python 2",
   "language": "python",
   "name": "python2"
  },
  "language_info": {
   "codemirror_mode": {
    "name": "ipython",
    "version": 2
   },
   "file_extension": ".py",
   "mimetype": "text/x-python",
   "name": "python",
   "nbconvert_exporter": "python",
   "pygments_lexer": "ipython2",
   "version": "2.7.15+"
  }
 },
 "nbformat": 4,
 "nbformat_minor": 2
}
