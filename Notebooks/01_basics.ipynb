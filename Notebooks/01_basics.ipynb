{
 "cells": [
  {
   "cell_type": "code",
   "execution_count": 5,
   "metadata": {},
   "outputs": [],
   "source": [
    "#========================================================================\n",
    "# Copyright 2019 Science Technology Facilities Council\n",
    "# Copyright 2019 University of Manchester\n",
    "#\n",
    "# This work is part of the Core Imaging Library developed by Science Technology\t\n",
    "# Facilities Council and University of Manchester\n",
    "#\n",
    "# Licensed under the Apache License, Version 2.0 (the \"License\");\n",
    "# you may not use this file except in compliance with the License.\n",
    "# You may obtain a copy of the License at\n",
    "#\n",
    "# http://www.apache.org/licenses/LICENSE-2.0.txt\n",
    "# \n",
    "# Unless required by applicable law or agreed to in writing, software\n",
    "# distributed under the License is distributed on an \"AS IS\" BASIS,\n",
    "# WITHOUT WARRANTIES OR CONDITIONS OF ANY KIND, either express or implied.\n",
    "# See the License for the specific language governing permissions and\n",
    "# limitations under the License.\n",
    "# \n",
    "#========================================================================="
   ]
  },
  {
   "cell_type": "markdown",
   "metadata": {},
   "source": [
    "## Framework basics:\n",
    "### Data containers, Geometry, Processors\n",
    "\n",
    "### Learning objectives\n",
    "In this excercise you will learn standard CT acquisition geometries and learn how they translate into Framework objects. We will also introduce other building blocks of the Framework which we will reuse in following excercises. \n",
    "\n",
    "### Prerequisites\n",
    "Users are expected to be familiar with Python and object-oriented programming. A gentle introduction to Python can be found here: link\n",
    "\n",
    "**TODO**: Edo, do you have a good link?"
   ]
  },
  {
   "cell_type": "markdown",
   "metadata": {},
   "source": [
    "### CT geometry\n",
    "\n",
    "In conventional CT systems, an object is placed between a source emitting X-rays and a detector array measuring the  X-ray transmission images of the incident X-rays. Typically, either the object is placed on a rotating sample stage and rotates with respect to the source-detector assembly, or the source-detector gantry rotates with respect to the stationary object. This arrangement results in so-called *circular scanning trajectory*. Depending on source and detector types, there are three conventional data acquisition geometries:\n",
    " - *Parallel geometry*: parallel beams of X-rays are emitted onto 1D (single pixel row) or 2D detector array. This geometry is common for synchrotron sources.\n",
    " - *Fan-beam geometry*: a single point-like X-ray source emits a cone beam onto 1D detector pixel row. Cone-beam is typically collimated to imaging field of view. Collimation allows greatly reduce amount of scatter radiation reaching the detector. Fan-beam geometry is used when scattering has significant influence on image quality or single-slice reconstruction is sufficient.\n",
    " - *Cone-beam geometry*: a single point-like X-ray source emits a cone beam onto 2D detector array. Cone-beam geometry is mainly used in lab-based CT instruments."
   ]
  },
  {
   "cell_type": "markdown",
   "metadata": {},
   "source": [
    "**TODO**: Question: can we use figures from papers/ books? authors permission?"
   ]
  },
  {
   "cell_type": "markdown",
   "metadata": {},
   "source": [
    "In the Framework, we implemented `AcquisitionGeometry` class describing acquisition geometries. The simplest (of course from image processing point of view, not from physical implementation) geometry is the parallel geometry."
   ]
  },
  {
   "cell_type": "code",
   "execution_count": 19,
   "metadata": {},
   "outputs": [],
   "source": [
    "from ccpi.framework import AcquisitionGeometry\n",
    "import numpy as np\n",
    "\n",
    "# acquisition angles\n",
    "n_angles = 90\n",
    "angles = np.linspace(0, np.pi, n_angles, dtype=np.float32)\n",
    "\n",
    "# number of pixels in detector row\n",
    "N = 256\n",
    "\n",
    "ag = AcquisitionGeometry(geom_type = 'parallel',\n",
    "                        dimension = '2D',\n",
    "                        angles = angles,\n",
    "                        pixel_num_h = N,\n",
    "                        pixel_size_h = 1)"
   ]
  },
  {
   "cell_type": "markdown",
   "metadata": {},
   "source": [
    "`AcquisitionGeometry` contains only metadata, the actual data is stored in `AcquisitionData` class."
   ]
  },
  {
   "cell_type": "code",
   "execution_count": 23,
   "metadata": {},
   "outputs": [
    {
     "name": "stdout",
     "output_type": "stream",
     "text": [
      "Number of dimensions: 2\n",
      "Shape: (90, 256)\n",
      "Axis labels: {0: u'angle', 1: u'horizontal'}\n",
      "\n",
      "Dimensions and Labels  =  (90, 256), {0: u'angle', 1: u'horizontal'}\n"
     ]
    }
   ],
   "source": [
    "from ccpi.framework import AcquisitionData\n",
    "\n",
    "# allocate AcquisitionData\n",
    "ad = ag.allocate()\n",
    "\n",
    "print(ad)\n",
    "print('Dimensions and Labels  =  {}, {}'.format(ad.shape, ad.dimension_labels))"
   ]
  },
  {
   "cell_type": "markdown",
   "metadata": {},
   "source": [
    "We can pass actual sinogram to AcquisitionData."
   ]
  },
  {
   "cell_type": "markdown",
   "metadata": {},
   "source": [
    "**TODO**: we need to add sinogram, flat and dark images to test data."
   ]
  },
  {
   "cell_type": "code",
   "execution_count": 21,
   "metadata": {},
   "outputs": [],
   "source": [
    "# ad.array = sinogram"
   ]
  },
  {
   "cell_type": "markdown",
   "metadata": {},
   "source": [
    "As X-ray photons travel from an X-ray source to detector elements they interact with matter along their trajectories. In these interactions, photons are either absorbed or scattered, resulting in the attenuation of the incident X-ray. A quantitative description of the interaction of X-rays with matter is given by the Beer-Lambert law (or Beer’s law).\n",
    "$$I^{\\boldsymbol{l}} = I^0 \\mathrm{exp}\\left( -\\int_{\\boldsymbol{l}} f(\\boldsymbol{g}) \\mathrm{d}\\boldsymbol{l} \\right)$$\n",
    "where $f(\\boldsymbol{g})$ is the X-ray linear attenuation coefficient of the object at the position $\\boldsymbol{g}$ along a given linear X-ray trajectory $\\boldsymbol{l}$ from the source to the detector element. If $\\boldsymbol{l}$ is the entire trajectory from the source to the detector element, then $I^0$ corresponds to the X-ray intensity upon emission from the source and $I^{\\boldsymbol{l}}$ corresponds to the X-ray intensity upon incidence on the detector element. $I^{\\boldsymbol{l}}$ is typically called a transmission measurement, whereas a projection measurement is given by\n",
    "$$G^{\\boldsymbol{l}} = -\\log \\left( \\frac{I^{\\boldsymbol{l}}}{I^0} \\right) = \\int_{\\boldsymbol{l}} f(\\boldsymbol{g}) \\mathrm{d}\\boldsymbol{l}$$"
   ]
  },
  {
   "cell_type": "markdown",
   "metadata": {},
   "source": [
    "Ideally, $I^0$ is a single value, but real detector pixels do respond equally to photon flux. Secondly, pixels might have residual charge (so called dark current). Therefore, to convert $I^{\\boldsymbol{l}}$ to $G^{\\boldsymbol{l}}$, one needs to perform flat field correction. If $I^F$ is a flat field image (acquired with source on, without an object in the field of view) and $I^d$ is a dark field image (acquired with source off), then flat field correction is given by:\n",
    "$$\\frac{I-I^D}{I^F-I^D}$$"
   ]
  },
  {
   "cell_type": "markdown",
   "metadata": {},
   "source": [
    "To perform flat field correction (and other mathematical operations), we defined arithmetic operations for `AcquisitionData` class."
   ]
  },
  {
   "cell_type": "code",
   "execution_count": 35,
   "metadata": {},
   "outputs": [
    {
     "name": "stdout",
     "output_type": "stream",
     "text": [
      "Number of dimensions: 2D\n",
      "angles: [0.]\n",
      "voxel_num : h256,v0\n",
      "voxel size: h1,v1\n",
      "geometry type: parallel\n",
      "distance source-detector: None\n",
      "distance center-detector: None\n",
      "number of channels: 1\n",
      "\n"
     ]
    }
   ],
   "source": [
    "# load flat and dark field images and wrap them as AcquisitionData objects\n",
    "ag_f = ag.clone()\n",
    "ag_f.angles = np.array([0], dtype = np.float32)\n",
    "ag_d = ag_f.clone()\n",
    "flat = ag_f.allocate()\n",
    "#flat.array = flat_tmp\n",
    "dark = ag_d.allocate()\n",
    "#dark.array = dark_tmp\n",
    "\n",
    "# and perform flat field correction and take negative logarithm\n",
    "#sino = -log((ad - dark) / (flat - dark))"
   ]
  },
  {
   "cell_type": "markdown",
   "metadata": {},
   "source": [
    "**TO DISCUSS**: what I do not like, is that for real imagesthis might not work because of zero division and -log(0). Thoughts?"
   ]
  },
  {
   "cell_type": "markdown",
   "metadata": {},
   "source": [
    "Now, the data is ready for reconstruction."
   ]
  },
  {
   "cell_type": "markdown",
   "metadata": {},
   "source": [
    "Here are some examples of other arithmetic operations. Note, that there is alternative syntaxis for some operations."
   ]
  },
  {
   "cell_type": "code",
   "execution_count": 22,
   "metadata": {},
   "outputs": [
    {
     "name": "stdout",
     "output_type": "stream",
     "text": [
      "a \n",
      "[[2. 2. 2. ... 2. 2. 2.]\n",
      " [2. 2. 2. ... 2. 2. 2.]\n",
      " [2. 2. 2. ... 2. 2. 2.]\n",
      " ...\n",
      " [2. 2. 2. ... 2. 2. 2.]\n",
      " [2. 2. 2. ... 2. 2. 2.]\n",
      " [2. 2. 2. ... 2. 2. 2.]]\n",
      "\n",
      "b \n",
      "[[3. 3. 3. ... 3. 3. 3.]\n",
      " [3. 3. 3. ... 3. 3. 3.]\n",
      " [3. 3. 3. ... 3. 3. 3.]\n",
      " ...\n",
      " [3. 3. 3. ... 3. 3. 3.]\n",
      " [3. 3. 3. ... 3. 3. 3.]\n",
      " [3. 3. 3. ... 3. 3. 3.]]\n",
      "\n",
      "a + b \n",
      "[[5. 5. 5. ... 5. 5. 5.]\n",
      " [5. 5. 5. ... 5. 5. 5.]\n",
      " [5. 5. 5. ... 5. 5. 5.]\n",
      " ...\n",
      " [5. 5. 5. ... 5. 5. 5.]\n",
      " [5. 5. 5. ... 5. 5. 5.]\n",
      " [5. 5. 5. ... 5. 5. 5.]]\n",
      "\n",
      "a + b \n",
      "[[5. 5. 5. ... 5. 5. 5.]\n",
      " [5. 5. 5. ... 5. 5. 5.]\n",
      " [5. 5. 5. ... 5. 5. 5.]\n",
      " ...\n",
      " [5. 5. 5. ... 5. 5. 5.]\n",
      " [5. 5. 5. ... 5. 5. 5.]\n",
      " [5. 5. 5. ... 5. 5. 5.]]\n",
      "\n",
      "3 ** a \n",
      "[[9. 9. 9. ... 9. 9. 9.]\n",
      " [9. 9. 9. ... 9. 9. 9.]\n",
      " [9. 9. 9. ... 9. 9. 9.]\n",
      " ...\n",
      " [9. 9. 9. ... 9. 9. 9.]\n",
      " [9. 9. 9. ... 9. 9. 9.]\n",
      " [9. 9. 9. ... 9. 9. 9.]]\n",
      "\n",
      "a ** b \n",
      "[[8. 8. 8. ... 8. 8. 8.]\n",
      " [8. 8. 8. ... 8. 8. 8.]\n",
      " [8. 8. 8. ... 8. 8. 8.]\n",
      " ...\n",
      " [8. 8. 8. ... 8. 8. 8.]\n",
      " [8. 8. 8. ... 8. 8. 8.]\n",
      " [8. 8. 8. ... 8. 8. 8.]]\n",
      "\n",
      "max(a,b) \n",
      "[[3. 3. 3. ... 3. 3. 3.]\n",
      " [3. 3. 3. ... 3. 3. 3.]\n",
      " [3. 3. 3. ... 3. 3. 3.]\n",
      " ...\n",
      " [3. 3. 3. ... 3. 3. 3.]\n",
      " [3. 3. 3. ... 3. 3. 3.]\n",
      " [3. 3. 3. ... 3. 3. 3.]]\n",
      "\n",
      "b ** b \n",
      "[[27. 27. 27. ... 27. 27. 27.]\n",
      " [27. 27. 27. ... 27. 27. 27.]\n",
      " [27. 27. 27. ... 27. 27. 27.]\n",
      " ...\n",
      " [27. 27. 27. ... 27. 27. 27.]\n",
      " [27. 27. 27. ... 27. 27. 27.]\n",
      " [27. 27. 27. ... 27. 27. 27.]]\n",
      "\n",
      "a + b \n",
      "[[29. 29. 29. ... 29. 29. 29.]\n",
      " [29. 29. 29. ... 29. 29. 29.]\n",
      " [29. 29. 29. ... 29. 29. 29.]\n",
      " ...\n",
      " [29. 29. 29. ... 29. 29. 29.]\n",
      " [29. 29. 29. ... 29. 29. 29.]\n",
      " [29. 29. 29. ... 29. 29. 29.]]\n",
      "\n",
      "a + b \n",
      "[[56. 56. 56. ... 56. 56. 56.]\n",
      " [56. 56. 56. ... 56. 56. 56.]\n",
      " [56. 56. 56. ... 56. 56. 56.]\n",
      " ...\n",
      " [56. 56. 56. ... 56. 56. 56.]\n",
      " [56. 56. 56. ... 56. 56. 56.]\n",
      " [56. 56. 56. ... 56. 56. 56.]]\n",
      "\n",
      "sign(a) \n",
      "[[1. 1. 1. ... 1. 1. 1.]\n",
      " [1. 1. 1. ... 1. 1. 1.]\n",
      " [1. 1. 1. ... 1. 1. 1.]\n",
      " ...\n",
      " [1. 1. 1. ... 1. 1. 1.]\n",
      " [1. 1. 1. ... 1. 1. 1.]\n",
      " [1. 1. 1. ... 1. 1. 1.]]\n",
      "\n",
      "norm(a) \n",
      "8500.20214844\n",
      "\n",
      "dot(a,b) \n",
      "34836480.0\n",
      "\n"
     ]
    }
   ],
   "source": [
    "a = ag.allocate(2)\n",
    "b = ag.allocate(3)\n",
    "print('a \\n{}\\n'.format(a.as_array()))\n",
    "print('b \\n{}\\n'.format(b.as_array()))\n",
    "## binary operations\n",
    "c = a + b\n",
    "print('a + b \\n{}\\n'.format(c.as_array()))\n",
    "# or alternatively\n",
    "c = a.add(b)\n",
    "print('a + b \\n{}\\n'.format(c.as_array()))\n",
    "d = 3 ** a\n",
    "print('3 ** a \\n{}\\n'.format(d.as_array()))\n",
    "e = a ** b\n",
    "print('a ** b \\n{}\\n'.format(e.as_array()))\n",
    "f = a.maximum(b)\n",
    "print('max(a,b) \\n{}\\n'.format(f.as_array()))\n",
    "\n",
    "## in-place operations\n",
    "b **= b\n",
    "print('b ** b \\n{}\\n'.format(b.as_array()))\n",
    "a += b\n",
    "print('a + b \\n{}\\n'.format(a.as_array()))\n",
    "# or alternatively\n",
    "a.add(b, out = a)\n",
    "print('a + b \\n{}\\n'.format(a.as_array()))\n",
    "\n",
    "## unary operation\n",
    "g = a.sign()\n",
    "print('sign(a) \\n{}\\n'.format(g.as_array()))\n",
    "\n",
    "## reductions\n",
    "h = a.norm()\n",
    "print('norm(a) \\n{}\\n'.format(h))\n",
    "i = a.dot(b)\n",
    "print('dot(a,b) \\n{}\\n'.format(i))"
   ]
  },
  {
   "cell_type": "markdown",
   "metadata": {},
   "source": [
    "Following operations are defined:\n",
    "binary operations (between two DataContainers or scalar and DataContainer)\n",
    "- \\+ addition\n",
    "- \\- subtraction\n",
    "- \\/ division\n",
    "- \\* multiplication\n",
    "- \\** power\n",
    "- maximum\n",
    "- minimum\n",
    "    \n",
    "in-place operations\n",
    "- \\+= \n",
    "- \\-= \n",
    "- \\*=\n",
    "- \\**=\n",
    "- /=     \n",
    "\n",
    "unary operations\n",
    "- abs\n",
    "- sqrt\n",
    "- sign\n",
    "- conjugate\n",
    "    \n",
    "reductions\n",
    "- minimum\n",
    "- maximum\n",
    "- sum\n",
    "- norm\n",
    "- dot product"
   ]
  },
  {
   "cell_type": "markdown",
   "metadata": {},
   "source": [
    "Fan-beam geometry and cone-beam geometry can be set-up similar to parallel geometry."
   ]
  },
  {
   "cell_type": "code",
   "execution_count": null,
   "metadata": {},
   "outputs": [],
   "source": [
    "# fan-beam geometry\n",
    "ag_fan = AcquisitionGeometry(geom_type = 'cone', \n",
    "                             dimension = '2D', \n",
    "                             angles = angles, \n",
    "                             pixel_num_h = N, \n",
    "                             pixel_size_h = 1, \n",
    "                             dist_source_center = 200, \n",
    "                             dist_center_detector = 300)\n",
    "\n",
    "# cone-beam geometry\n",
    "ag_cone = AcquisitionGeometry(geom_type = 'cone', \n",
    "                             dimension = '3D', \n",
    "                             angles = angles, \n",
    "                             pixel_num_h = N, \n",
    "                             pixel_size_h = 1, \n",
    "                             pixel_num_v = N, \n",
    "                             pixel_size_v = 1, \n",
    "                             dist_source_center = 200, \n",
    "                             dist_center_detector = 300)\n",
    "\n",
    "print(ag_fan)\n",
    "print(ag_cone)"
   ]
  },
  {
   "cell_type": "markdown",
   "metadata": {},
   "source": [
    "All three geometries can be defined for spectral (multi-channel) data."
   ]
  },
  {
   "cell_type": "code",
   "execution_count": 36,
   "metadata": {},
   "outputs": [
    {
     "name": "stdout",
     "output_type": "stream",
     "text": [
      "Number of dimensions: 2D\n",
      "angles: [0.         0.03529879 0.07059759 0.10589638 0.14119518 0.17649397\n",
      " 0.21179277 0.24709156 0.28239036 0.31768915 0.35298795 0.38828674\n",
      " 0.42358553 0.45888433 0.49418312 0.5294819  0.5647807  0.6000795\n",
      " 0.6353783  0.67067707 0.7059759  0.74127465 0.7765735  0.81187224\n",
      " 0.84717107 0.88246983 0.91776866 0.9530674  0.98836625 1.0236651\n",
      " 1.0589638  1.0942626  1.1295614  1.1648602  1.200159   1.2354578\n",
      " 1.2707566  1.3060554  1.3413541  1.376653   1.4119518  1.4472506\n",
      " 1.4825493  1.5178481  1.553147   1.5884458  1.6237445  1.6590433\n",
      " 1.6943421  1.7296408  1.7649397  1.8002385  1.8355373  1.870836\n",
      " 1.9061348  1.9414337  1.9767325  2.0120313  2.0473301  2.0826287\n",
      " 2.1179276  2.1532264  2.1885252  2.223824   2.2591228  2.2944217\n",
      " 2.3297205  2.365019   2.400318   2.4356167  2.4709156  2.5062144\n",
      " 2.5415132  2.576812   2.6121109  2.6474094  2.6827083  2.718007\n",
      " 2.753306   2.7886047  2.8239036  2.8592024  2.8945012  2.9297998\n",
      " 2.9650986  3.0003974  3.0356963  3.070995   3.106294   3.1415927 ]\n",
      "voxel_num : h256,v0\n",
      "voxel size: h1,v1\n",
      "geometry type: cone\n",
      "distance source-detector: 200\n",
      "distance center-detector: 200\n",
      "number of channels: 10\n",
      "\n"
     ]
    }
   ],
   "source": [
    "# multi-channel fan-beam geometry\n",
    "ag_fan_mc = AcquisitionGeometry(geom_type = 'cone', \n",
    "                                 dimension = '2D', \n",
    "                                 angles = angles, \n",
    "                                 pixel_num_h = N, \n",
    "                                 pixel_size_h = 1, \n",
    "                                 dist_source_center = 200, \n",
    "                                 dist_center_detector = 300,\n",
    "                                 channels = 10)\n",
    "\n",
    "print(ag_fan_mc)"
   ]
  },
  {
   "cell_type": "markdown",
   "metadata": {},
   "source": [
    "3D data can be easily reduced to 2D (or multi-channel to single-channel) by using `subset` method."
   ]
  },
  {
   "cell_type": "code",
   "execution_count": 37,
   "metadata": {},
   "outputs": [
    {
     "ename": "TypeError",
     "evalue": "__init__() takes at least 4 arguments (5 given)",
     "output_type": "error",
     "traceback": [
      "\u001b[0;31m---------------------------------------------------------------------------\u001b[0m",
      "\u001b[0;31mTypeError\u001b[0m                                 Traceback (most recent call last)",
      "\u001b[0;32m<ipython-input-37-eb9ce1093795>\u001b[0m in \u001b[0;36m<module>\u001b[0;34m()\u001b[0m\n\u001b[1;32m      3\u001b[0m \u001b[0;34m\u001b[0m\u001b[0m\n\u001b[1;32m      4\u001b[0m \u001b[0;31m# extract single channel using subset method\u001b[0m\u001b[0;34m\u001b[0m\u001b[0;34m\u001b[0m\u001b[0;34m\u001b[0m\u001b[0m\n\u001b[0;32m----> 5\u001b[0;31m \u001b[0mad_fan_sc\u001b[0m \u001b[0;34m=\u001b[0m \u001b[0mad_fan_mc\u001b[0m\u001b[0;34m.\u001b[0m\u001b[0msubset\u001b[0m\u001b[0;34m(\u001b[0m\u001b[0mchannel\u001b[0m \u001b[0;34m=\u001b[0m \u001b[0;36m5\u001b[0m\u001b[0;34m)\u001b[0m\u001b[0;34m\u001b[0m\u001b[0;34m\u001b[0m\u001b[0m\n\u001b[0m\u001b[1;32m      6\u001b[0m \u001b[0mag_fan_sc\u001b[0m \u001b[0;34m=\u001b[0m \u001b[0mad_fan_mc\u001b[0m\u001b[0;34m.\u001b[0m\u001b[0mgeometry\u001b[0m\u001b[0;34m\u001b[0m\u001b[0;34m\u001b[0m\u001b[0m\n\u001b[1;32m      7\u001b[0m \u001b[0;34m\u001b[0m\u001b[0m\n",
      "\u001b[0;32m/home/sirfuser/devel/install/python/ccpi/framework/framework.pyc\u001b[0m in \u001b[0;36msubset\u001b[0;34m(self, dimensions, **kw)\u001b[0m\n\u001b[1;32m   1118\u001b[0m                                   \u001b[0mAcquisitionGeometry\u001b[0m\u001b[0;34m.\u001b[0m\u001b[0mANGLE\u001b[0m\u001b[0;34m,\u001b[0m\u001b[0;34m\u001b[0m\u001b[0;34m\u001b[0m\u001b[0m\n\u001b[1;32m   1119\u001b[0m                                   AcquisitionGeometry.HORIZONTAL]\n\u001b[0;32m-> 1120\u001b[0;31m             \u001b[0;32melse\u001b[0m\u001b[0;34m:\u001b[0m\u001b[0;34m\u001b[0m\u001b[0;34m\u001b[0m\u001b[0m\n\u001b[0m\u001b[1;32m   1121\u001b[0m                 \u001b[0;32mif\u001b[0m \u001b[0mvert\u001b[0m \u001b[0;34m>\u001b[0m \u001b[0;36m1\u001b[0m\u001b[0;34m:\u001b[0m\u001b[0;34m\u001b[0m\u001b[0;34m\u001b[0m\u001b[0m\n\u001b[1;32m   1122\u001b[0m                     \u001b[0mshape\u001b[0m \u001b[0;34m=\u001b[0m \u001b[0;34m(\u001b[0m\u001b[0mnum_of_angles\u001b[0m\u001b[0;34m,\u001b[0m \u001b[0mvert\u001b[0m\u001b[0;34m,\u001b[0m \u001b[0mhoriz\u001b[0m\u001b[0;34m)\u001b[0m\u001b[0;34m\u001b[0m\u001b[0;34m\u001b[0m\u001b[0m\n",
      "\u001b[0;32m/home/sirfuser/devel/install/python/ccpi/framework/framework.pyc\u001b[0m in \u001b[0;36msubset\u001b[0;34m(self, dimensions, **kw)\u001b[0m\n\u001b[1;32m    444\u001b[0m         and then it returns the pointer to the array'''\n\u001b[1;32m    445\u001b[0m         \u001b[0;32mif\u001b[0m \u001b[0mdimensions\u001b[0m \u001b[0;32mis\u001b[0m \u001b[0;32mnot\u001b[0m \u001b[0mNone\u001b[0m\u001b[0;34m:\u001b[0m\u001b[0;34m\u001b[0m\u001b[0;34m\u001b[0m\u001b[0m\n\u001b[0;32m--> 446\u001b[0;31m             \u001b[0;32mreturn\u001b[0m \u001b[0mself\u001b[0m\u001b[0;34m.\u001b[0m\u001b[0msubset\u001b[0m\u001b[0;34m(\u001b[0m\u001b[0mdimensions\u001b[0m\u001b[0;34m)\u001b[0m\u001b[0;34m.\u001b[0m\u001b[0mas_array\u001b[0m\u001b[0;34m(\u001b[0m\u001b[0;34m)\u001b[0m\u001b[0;34m\u001b[0m\u001b[0;34m\u001b[0m\u001b[0m\n\u001b[0m\u001b[1;32m    447\u001b[0m         \u001b[0;32mreturn\u001b[0m \u001b[0mself\u001b[0m\u001b[0;34m.\u001b[0m\u001b[0marray\u001b[0m\u001b[0;34m\u001b[0m\u001b[0;34m\u001b[0m\u001b[0m\n\u001b[1;32m    448\u001b[0m \u001b[0;34m\u001b[0m\u001b[0m\n",
      "\u001b[0;32m/home/sirfuser/devel/install/python/ccpi/framework/framework.pyc\u001b[0m in \u001b[0;36msubset\u001b[0;34m(self, dimensions, **kw)\u001b[0m\n\u001b[1;32m   1148\u001b[0m                 raise ValueError('Missing {0} axes.\\nExpected{1} got {2}'\\\n\u001b[1;32m   1149\u001b[0m                     .format(\n\u001b[0;32m-> 1150\u001b[0;31m                         \u001b[0mlen\u001b[0m\u001b[0;34m(\u001b[0m\u001b[0mdimension_labels\u001b[0m\u001b[0;34m)\u001b[0m \u001b[0;34m-\u001b[0m \u001b[0mlen\u001b[0m\u001b[0;34m(\u001b[0m\u001b[0mshape\u001b[0m\u001b[0;34m)\u001b[0m\u001b[0;34m,\u001b[0m\u001b[0;34m\u001b[0m\u001b[0;34m\u001b[0m\u001b[0m\n\u001b[0m\u001b[1;32m   1151\u001b[0m                         dimension_labels, shape) \n\u001b[1;32m   1152\u001b[0m                     )\n",
      "\u001b[0;31mTypeError\u001b[0m: __init__() takes at least 4 arguments (5 given)"
     ]
    }
   ],
   "source": [
    "# allocate multi-channel fan-beam acquisition data\n",
    "ad_fan_mc = ag_fan_mc.allocate()\n",
    "\n",
    "# extract single channel using subset method\n",
    "ad_fan_sc = ad_fan_mc.subset(channel = 5)\n",
    "ag_fan_sc = ad_fan_mc.geometry\n",
    "\n",
    "print(ag_fan_sc)\n",
    "print('Dimensions and Labels  =  {}, {}'.format(ag_fan_mc.shape, ag_fan_mc.dimension_labels))"
   ]
  },
  {
   "cell_type": "markdown",
   "metadata": {},
   "source": [
    "To store reconstruction results, we implemented two classes:`ImageGeometry` and `ImageData` class. `AcquisiionData` and `ImageData` inherit from the same parent clss, therefore they behave the same way. The only difference is the metadata. Define 2D `ImageGeometry` and allocate `ImageData`."
   ]
  },
  {
   "cell_type": "code",
   "execution_count": 4,
   "metadata": {},
   "outputs": [],
   "source": [
    "from ccpi.framework import ImageData, ImageGeometry\n",
    "\n",
    "# Define 2D ImageGeometry\n",
    "ig = ImageGeometry(voxel_num_y = 5, voxel_num_x = 4)\n",
    "\n",
    "# Create random ImageData with the specific geometry\n",
    "im_data1 = ig.allocate()\n",
    "im_data2 = ig.allocate('random', seed = 5)"
   ]
  },
  {
   "cell_type": "code",
   "execution_count": 5,
   "metadata": {},
   "outputs": [
    {
     "name": "stdout",
     "output_type": "stream",
     "text": [
      "Allocate with zeros \n",
      "[[0. 0. 0. 0.]\n",
      " [0. 0. 0. 0.]\n",
      " [0. 0. 0. 0.]\n",
      " [0. 0. 0. 0.]\n",
      " [0. 0. 0. 0.]]\n",
      "\n",
      "Allocate with random numbers in [0,1] \n",
      "[[0.22199318 0.8707323  0.20671916 0.91861093]\n",
      " [0.4884112  0.61174387 0.7659079  0.518418  ]\n",
      " [0.2968005  0.18772122 0.08074127 0.7384403 ]\n",
      " [0.4413092  0.15830986 0.87993705 0.27408648]\n",
      " [0.41423503 0.29607993 0.62878793 0.5798378 ]]\n",
      "\n",
      "Dimensions and Labels = (5, 4) , {0: u'horizontal_y', 1: u'horizontal_x'}\n"
     ]
    }
   ],
   "source": [
    "print('Allocate with zeros \\n{}\\n'.format(im_data1.as_array()))\n",
    "print('Allocate with random numbers in [0,1] \\n{}\\n'.format(im_data2.as_array()))\n",
    "print('Dimensions and Labels = {} , {}'.format(im_data1.shape, im_data1.dimension_labels))"
   ]
  },
  {
   "cell_type": "markdown",
   "metadata": {},
   "source": [
    "Define multi-channels `ImageGeometry` and allocate `ImageData`."
   ]
  },
  {
   "cell_type": "code",
   "execution_count": 6,
   "metadata": {},
   "outputs": [
    {
     "name": "stdout",
     "output_type": "stream",
     "text": [
      "Allocate with random integers \n",
      "[[[265. 125. 484.  15.]\n",
      "  [320. 369. 123. 156.]\n",
      "  [473. 221. 496. 413.]\n",
      "  [369.   8.  73. 256.]\n",
      "  [490.  40. 420. 371.]]\n",
      "\n",
      " [[ 16. 356. 239. 395.]\n",
      "  [ 54. 344. 363. 122.]\n",
      "  [ 62.  33. 200. 356.]\n",
      "  [462. 177. 179.  54.]\n",
      "  [ 77. 453.  13. 243.]]]\n",
      "\n",
      "Dimensions and Labels =  ((2, 5, 4), [u'channel', u'horizontal_y', u'horizontal_x'])\n"
     ]
    }
   ],
   "source": [
    "# Define 2D + channels ImageGeometry\n",
    "ig1 = ImageGeometry(voxel_num_y = 5, voxel_num_x = 4, channels = 2)\n",
    "\n",
    "# Create random integer in [0, max_value] ImageData with the specific geometry\n",
    "im_data3 = ig1.allocate('random_int', seed = 10, max_value = 500)\n",
    "\n",
    "print('Allocate with random integers \\n{}\\n'.format(im_data3.as_array()))\n",
    "print('Dimensions and Labels  =  {}, {}'.format(im_data3.shape, im_data3.dimension_labels))"
   ]
  },
  {
   "cell_type": "markdown",
   "metadata": {},
   "source": [
    "The Framework provides a number of test images\n",
    "\n",
    "- BOAT = 'boat.tiff'\n",
    "- CAMERA = 'camera.png'\n",
    "- PEPPERS = 'peppers.tiff'\n",
    "- RESOLUTION_CHART = 'resolution_chart.tiff'\n",
    "- SIMPLE_PHANTOM_2D = 'hotdog'\n",
    "- SHAPES = 'shapes.png'\n",
    "    \n",
    "Here we load a 'hotdog' image (a simple CT phantom consisting of 2 materials)"
   ]
  },
  {
   "cell_type": "code",
   "execution_count": 42,
   "metadata": {},
   "outputs": [
    {
     "name": "stdout",
     "output_type": "stream",
     "text": [
      "('data.geometry', <ccpi.framework.framework.ImageGeometry object at 0x7f871747fed0>)\n",
      "Number of channels: 1\n",
      "voxel_num : x200,y200,z0\n",
      "voxel_size : x1,y1,z1\n",
      "center : x0,y0,z0\n",
      "\n",
      "Dimensions and Labels  =  (200, 200), {0: u'horizontal_x', 1: u'horizontal_y'}\n"
     ]
    },
    {
     "data": {
      "image/png": "[encoded data removed]",
      "text/plain": [
       "<Figure size 432x288 with 1 Axes>"
      ]
     },
     "metadata": {
      "needs_background": "light"
     },
     "output_type": "display_data"
    }
   ],
   "source": [
    "from ccpi.framework import TestData\n",
    "import matplotlib.pyplot as plt\n",
    "import os, sys\n",
    "\n",
    "%matplotlib inline\n",
    "\n",
    "loader = TestData(data_dir=os.path.join(sys.prefix, 'share','ccpi'))\n",
    "data = loader.load(TestData.SIMPLE_PHANTOM_2D, size=(200,200))\n",
    "ig = data.geometry\n",
    "print(ig)\n",
    "print('Dimensions and Labels  =  {}, {}'.format(data.shape, data.dimension_labels))\n",
    "\n",
    "# plot data\n",
    "plt.imshow(data.as_array())\n",
    "plt.show()"
   ]
  },
  {
   "cell_type": "markdown",
   "metadata": {},
   "source": [
    "Similar to `AcquisitionData', 'ImageData' provides a simple method to produce a subset of itself based on the axis we would like to have. "
   ]
  },
  {
   "cell_type": "code",
   "execution_count": 43,
   "metadata": {},
   "outputs": [
    {
     "data": {
      "image/png": "[encoded data removed]",
      "text/plain": [
       "<Figure size 432x288 with 1 Axes>"
      ]
     },
     "metadata": {
      "needs_background": "light"
     },
     "output_type": "display_data"
    },
    {
     "ename": "ValueError",
     "evalue": "Number of dimensions are not 2 or 3 or 4 : 1",
     "output_type": "error",
     "traceback": [
      "\u001b[0;31m---------------------------------------------------------------------------\u001b[0m",
      "\u001b[0;31mValueError\u001b[0m                                Traceback (most recent call last)",
      "\u001b[0;32m<ipython-input-43-6f5055965b26>\u001b[0m in \u001b[0;36m<module>\u001b[0;34m()\u001b[0m\n\u001b[1;32m      6\u001b[0m \u001b[0;34m\u001b[0m\u001b[0m\n\u001b[1;32m      7\u001b[0m \u001b[0;31m# extract single row\u001b[0m\u001b[0;34m\u001b[0m\u001b[0;34m\u001b[0m\u001b[0;34m\u001b[0m\u001b[0m\n\u001b[0;32m----> 8\u001b[0;31m \u001b[0mdata_profile\u001b[0m \u001b[0;34m=\u001b[0m \u001b[0mdata_subset\u001b[0m\u001b[0;34m.\u001b[0m\u001b[0msubset\u001b[0m\u001b[0;34m(\u001b[0m\u001b[0mhorizontal_y\u001b[0m \u001b[0;34m=\u001b[0m \u001b[0;36m100\u001b[0m\u001b[0;34m)\u001b[0m\u001b[0;34m\u001b[0m\u001b[0;34m\u001b[0m\u001b[0m\n\u001b[0m\u001b[1;32m      9\u001b[0m \u001b[0;34m\u001b[0m\u001b[0m\n\u001b[1;32m     10\u001b[0m \u001b[0mplt\u001b[0m\u001b[0;34m.\u001b[0m\u001b[0mplot\u001b[0m\u001b[0;34m(\u001b[0m\u001b[0mdata_profile\u001b[0m\u001b[0;34m.\u001b[0m\u001b[0mas_array\u001b[0m\u001b[0;34m(\u001b[0m\u001b[0;34m)\u001b[0m\u001b[0;34m)\u001b[0m\u001b[0;34m\u001b[0m\u001b[0;34m\u001b[0m\u001b[0m\n",
      "\u001b[0;32m/home/sirfuser/devel/install/python/ccpi/framework/framework.pyc\u001b[0m in \u001b[0;36msubset\u001b[0;34m(self, dimensions, **kw)\u001b[0m\n\u001b[1;32m    920\u001b[0m                         dimension_labels = [ ImageGeometry.HORIZONTAL_Y,\n\u001b[1;32m    921\u001b[0m                                              ImageGeometry.HORIZONTAL_X]   \n\u001b[0;32m--> 922\u001b[0;31m \u001b[0;34m\u001b[0m\u001b[0m\n\u001b[0m\u001b[1;32m    923\u001b[0m                 \u001b[0;31m#DataContainer.__init__(self, array, deep_copy, dimension_labels, **kwargs)\u001b[0m\u001b[0;34m\u001b[0m\u001b[0;34m\u001b[0m\u001b[0;34m\u001b[0m\u001b[0m\n\u001b[1;32m    924\u001b[0m                 super(ImageData, self).__init__(array, deep_copy, \n",
      "\u001b[0;32m/home/sirfuser/devel/install/python/ccpi/framework/framework.pyc\u001b[0m in \u001b[0;36msubset\u001b[0;34m(self, dimensions, **kw)\u001b[0m\n\u001b[1;32m    444\u001b[0m         and then it returns the pointer to the array'''\n\u001b[1;32m    445\u001b[0m         \u001b[0;32mif\u001b[0m \u001b[0mdimensions\u001b[0m \u001b[0;32mis\u001b[0m \u001b[0;32mnot\u001b[0m \u001b[0mNone\u001b[0m\u001b[0;34m:\u001b[0m\u001b[0;34m\u001b[0m\u001b[0;34m\u001b[0m\u001b[0m\n\u001b[0;32m--> 446\u001b[0;31m             \u001b[0;32mreturn\u001b[0m \u001b[0mself\u001b[0m\u001b[0;34m.\u001b[0m\u001b[0msubset\u001b[0m\u001b[0;34m(\u001b[0m\u001b[0mdimensions\u001b[0m\u001b[0;34m)\u001b[0m\u001b[0;34m.\u001b[0m\u001b[0mas_array\u001b[0m\u001b[0;34m(\u001b[0m\u001b[0;34m)\u001b[0m\u001b[0;34m\u001b[0m\u001b[0;34m\u001b[0m\u001b[0m\n\u001b[0m\u001b[1;32m    447\u001b[0m         \u001b[0;32mreturn\u001b[0m \u001b[0mself\u001b[0m\u001b[0;34m.\u001b[0m\u001b[0marray\u001b[0m\u001b[0;34m\u001b[0m\u001b[0;34m\u001b[0m\u001b[0m\n\u001b[1;32m    448\u001b[0m \u001b[0;34m\u001b[0m\u001b[0m\n",
      "\u001b[0;32m/home/sirfuser/devel/install/python/ccpi/framework/framework.pyc\u001b[0m in \u001b[0;36msubset\u001b[0;34m(self, dimensions, **kw)\u001b[0m\n\u001b[1;32m    920\u001b[0m                         dimension_labels = [ ImageGeometry.HORIZONTAL_Y,\n\u001b[1;32m    921\u001b[0m                                              ImageGeometry.HORIZONTAL_X]   \n\u001b[0;32m--> 922\u001b[0;31m \u001b[0;34m\u001b[0m\u001b[0m\n\u001b[0m\u001b[1;32m    923\u001b[0m                 \u001b[0;31m#DataContainer.__init__(self, array, deep_copy, dimension_labels, **kwargs)\u001b[0m\u001b[0;34m\u001b[0m\u001b[0;34m\u001b[0m\u001b[0;34m\u001b[0m\u001b[0m\n\u001b[1;32m    924\u001b[0m                 super(ImageData, self).__init__(array, deep_copy, \n",
      "\u001b[0;32m/home/sirfuser/devel/install/python/ccpi/framework/framework.pyc\u001b[0m in \u001b[0;36msubset\u001b[0;34m(self, dimensions, **kw)\u001b[0m\n\u001b[1;32m    506\u001b[0m                 \u001b[0mcleaned\u001b[0m \u001b[0;34m=\u001b[0m \u001b[0meval\u001b[0m\u001b[0;34m(\u001b[0m\u001b[0mcommand\u001b[0m\u001b[0;34m)\u001b[0m\u001b[0;34m\u001b[0m\u001b[0;34m\u001b[0m\u001b[0m\n\u001b[1;32m    507\u001b[0m                 \u001b[0;31m# cleaned has collapsed dimensions in the same order of\u001b[0m\u001b[0;34m\u001b[0m\u001b[0;34m\u001b[0m\u001b[0;34m\u001b[0m\u001b[0m\n\u001b[0;32m--> 508\u001b[0;31m                 \u001b[0;31m# self.array, but we want it in the order stated in the\u001b[0m\u001b[0;34m\u001b[0m\u001b[0;34m\u001b[0m\u001b[0;34m\u001b[0m\u001b[0m\n\u001b[0m\u001b[1;32m    509\u001b[0m                 \u001b[0;31m# \"dimensions\".\u001b[0m\u001b[0;34m\u001b[0m\u001b[0;34m\u001b[0m\u001b[0;34m\u001b[0m\u001b[0m\n\u001b[1;32m    510\u001b[0m                 \u001b[0;31m# create axes order for numpy.transpose\u001b[0m\u001b[0;34m\u001b[0m\u001b[0;34m\u001b[0m\u001b[0;34m\u001b[0m\u001b[0m\n",
      "\u001b[0;32m/home/sirfuser/devel/install/python/ccpi/framework/framework.pyc\u001b[0m in \u001b[0;36m__init__\u001b[0;34m(self, array, deep_copy, dimension_labels, **kwargs)\u001b[0m\n\u001b[1;32m    888\u001b[0m                 \u001b[0;32mif\u001b[0m \u001b[0marray\u001b[0m\u001b[0;34m.\u001b[0m\u001b[0mshape\u001b[0m \u001b[0;34m!=\u001b[0m \u001b[0mshape\u001b[0m\u001b[0;34m:\u001b[0m\u001b[0;34m\u001b[0m\u001b[0;34m\u001b[0m\u001b[0m\n\u001b[1;32m    889\u001b[0m                     \u001b[0;32mraise\u001b[0m \u001b[0mValueError\u001b[0m\u001b[0;34m(\u001b[0m\u001b[0;34m'Shape mismatch {} {}'\u001b[0m\u001b[0;34m.\u001b[0m\u001b[0mformat\u001b[0m\u001b[0;34m(\u001b[0m\u001b[0mshape\u001b[0m\u001b[0;34m,\u001b[0m \u001b[0marray\u001b[0m\u001b[0;34m.\u001b[0m\u001b[0mshape\u001b[0m\u001b[0;34m)\u001b[0m\u001b[0;34m)\u001b[0m\u001b[0;34m\u001b[0m\u001b[0;34m\u001b[0m\u001b[0m\n\u001b[0;32m--> 890\u001b[0;31m \u001b[0;34m\u001b[0m\u001b[0m\n\u001b[0m\u001b[1;32m    891\u001b[0m             \u001b[0;32mif\u001b[0m \u001b[0missubclass\u001b[0m\u001b[0;34m(\u001b[0m\u001b[0mtype\u001b[0m\u001b[0;34m(\u001b[0m\u001b[0marray\u001b[0m\u001b[0;34m)\u001b[0m \u001b[0;34m,\u001b[0m \u001b[0mDataContainer\u001b[0m\u001b[0;34m)\u001b[0m\u001b[0;34m:\u001b[0m\u001b[0;34m\u001b[0m\u001b[0;34m\u001b[0m\u001b[0m\n\u001b[1;32m    892\u001b[0m                 \u001b[0;31m# if the array is a DataContainer get the info from there\u001b[0m\u001b[0;34m\u001b[0m\u001b[0;34m\u001b[0m\u001b[0;34m\u001b[0m\u001b[0m\n",
      "\u001b[0;31mValueError\u001b[0m: Number of dimensions are not 2 or 3 or 4 : 1"
     ]
    }
   ],
   "source": [
    "# transpose data using subset method\n",
    "data_subset = data.subset(['horizontal_y', 'horizontal_x'])\n",
    "\n",
    "plt.imshow(data_subset.as_array())\n",
    "plt.show()\n",
    "\n",
    "# extract single row\n",
    "data_profile = data_subset.subset(horizontal_y = 100)\n",
    "\n",
    "plt.plot(data_profile.as_array())\n",
    "plt.show()\n"
   ]
  },
  {
   "cell_type": "markdown",
   "metadata": {},
   "source": [
    "**OLD STUFF BELOW**"
   ]
  },
  {
   "cell_type": "markdown",
   "metadata": {},
   "source": [
    "Framework supports aa number of standard CT acquisition geometries, namely:\n",
    "    - parallel beam\n",
    "    - fan beam\n",
    "    - cone beam.\n",
    "    \n",
    "The parallel beam geometry is the simplest one. A user needs to specify only acquisition angles and a number of pixels in a detector array. We load AcquisitionData from NEXUS file."
   ]
  },
  {
   "cell_type": "code",
   "execution_count": 28,
   "metadata": {},
   "outputs": [
    {
     "name": "stdout",
     "output_type": "stream",
     "text": [
      "Acquisition data \n",
      "\n",
      "Number of dimensions: 3\n",
      "Shape: (91, 135, 160)\n",
      "Axis labels: {0: u'angle', 1: u'vertical', 2: u'horizontal'}\n",
      "\n",
      "Acquisition geometry \n",
      "\n",
      "Number of dimensions: 3D\n",
      "angles: [-88.2    -86.2    -84.2001 -82.2    -80.2    -78.2    -76.1999 -74.2\n",
      " -72.1999 -70.2    -68.2    -66.2    -64.1999 -62.2    -60.2    -58.2\n",
      " -56.2    -54.2    -52.2    -50.2    -48.2    -46.2    -44.1999 -42.1999\n",
      " -40.2    -38.2    -36.1997 -34.2    -32.2    -30.2    -28.2    -26.2\n",
      " -24.2    -22.2    -20.2    -18.2    -16.2    -14.2    -12.2    -10.1999\n",
      "  -8.2     -6.2     -4.1999  -2.2     -0.2      1.8      3.8001   5.8\n",
      "   7.8      9.8     11.7999  13.8     15.7999  17.8     19.8     21.8\n",
      "  23.8     25.8     27.8     29.8     31.8     33.8     35.8     37.8\n",
      "  39.8     41.8     43.7999  45.8     47.8     49.8     51.8     53.8\n",
      "  55.8     57.8     59.8     61.8     63.8     65.8     67.8001  69.8\n",
      "  71.8     73.8     75.8     77.8     79.8     81.8     83.8     85.8\n",
      "  87.8     89.8     91.7999]\n",
      "voxel_num : h160,v135\n",
      "voxel size: h1,v1\n",
      "geometry type: parallel\n",
      "distance source-detector: None\n",
      "distance center-detector: None\n",
      "number of channels: 1\n",
      "\n"
     ]
    },
    {
     "data": {
      "image/png": "[encoded data removed]",
      "text/plain": [
       "<Figure size 432x288 with 1 Axes>"
      ]
     },
     "metadata": {
      "needs_background": "light"
     },
     "output_type": "display_data"
    }
   ],
   "source": [
    "from ccpi.framework import AcquisitionGeometry, AcquisitionData\n",
    "from ccpi.io import NEXUSDataReader\n",
    "import numpy\n",
    "\n",
    "# load AcquisitionData and Acquisition Geometry from NEXUS file\n",
    "filename = os.path.join(os.environ['SIRF_INSTALL_PATH'], 'share','ccpi','24737_fd_normalised.nxs')\n",
    "reader = NEXUSDataReader()\n",
    "reader.set_up(nexus_file = filename)\n",
    "acquisition_data = reader.load_data()\n",
    "print('Acquisition data \\n')\n",
    "print(acquisition_data)\n",
    "ag = reader.get_geometry()\n",
    "print('Acquisition geometry \\n')\n",
    "print(ag)\n",
    "\n",
    "#TODO Extract one slice from acquistion data.\n",
    "#acquisition_data_slice = acquisition_data.subset(horizontal = 30)\n",
    "#print(acquisition_data.geometry)\n",
    "\n",
    "# visualise sinogram for a single slice\n",
    "plt.imshow(acquisition_data.as_array()[:,30,:])\n",
    "plt.show()"
   ]
  },
  {
   "cell_type": "markdown",
   "metadata": {},
   "source": [
    "We can create Acquisition geometry from scratch and allocate empty AcquisitionData"
   ]
  },
  {
   "cell_type": "code",
   "execution_count": 33,
   "metadata": {
    "scrolled": true
   },
   "outputs": [
    {
     "name": "stdout",
     "output_type": "stream",
     "text": [
      "Acquisition geometry \n",
      " Number of dimensions: 3D\n",
      "angles: [0.         0.15707963 0.31415927 0.4712389  0.62831853 0.78539816\n",
      " 0.9424778  1.09955743 1.25663706 1.41371669 1.57079633 1.72787596\n",
      " 1.88495559 2.04203522 2.19911486 2.35619449 2.51327412 2.67035376\n",
      " 2.82743339 2.98451302]\n",
      "voxel_num : h200,v200\n",
      "voxel size: h1.0,v1.0\n",
      "geometry type: cone\n",
      "distance source-detector: 300\n",
      "distance center-detector: 300\n",
      "number of channels: 1\n",
      "\n",
      "Acquisition data \n",
      " Number of dimensions: 3\n",
      "Shape: (20, 200, 200)\n",
      "Axis labels: {0: u'angle', 1: u'vertical', 2: u'horizontal'}\n",
      "\n",
      " Array \n",
      " [[[0. 0. 0. ... 0. 0. 0.]\n",
      "  [0. 0. 0. ... 0. 0. 0.]\n",
      "  [0. 0. 0. ... 0. 0. 0.]\n",
      "  ...\n",
      "  [0. 0. 0. ... 0. 0. 0.]\n",
      "  [0. 0. 0. ... 0. 0. 0.]\n",
      "  [0. 0. 0. ... 0. 0. 0.]]\n",
      "\n",
      " [[0. 0. 0. ... 0. 0. 0.]\n",
      "  [0. 0. 0. ... 0. 0. 0.]\n",
      "  [0. 0. 0. ... 0. 0. 0.]\n",
      "  ...\n",
      "  [0. 0. 0. ... 0. 0. 0.]\n",
      "  [0. 0. 0. ... 0. 0. 0.]\n",
      "  [0. 0. 0. ... 0. 0. 0.]]\n",
      "\n",
      " [[0. 0. 0. ... 0. 0. 0.]\n",
      "  [0. 0. 0. ... 0. 0. 0.]\n",
      "  [0. 0. 0. ... 0. 0. 0.]\n",
      "  ...\n",
      "  [0. 0. 0. ... 0. 0. 0.]\n",
      "  [0. 0. 0. ... 0. 0. 0.]\n",
      "  [0. 0. 0. ... 0. 0. 0.]]\n",
      "\n",
      " ...\n",
      "\n",
      " [[0. 0. 0. ... 0. 0. 0.]\n",
      "  [0. 0. 0. ... 0. 0. 0.]\n",
      "  [0. 0. 0. ... 0. 0. 0.]\n",
      "  ...\n",
      "  [0. 0. 0. ... 0. 0. 0.]\n",
      "  [0. 0. 0. ... 0. 0. 0.]\n",
      "  [0. 0. 0. ... 0. 0. 0.]]\n",
      "\n",
      " [[0. 0. 0. ... 0. 0. 0.]\n",
      "  [0. 0. 0. ... 0. 0. 0.]\n",
      "  [0. 0. 0. ... 0. 0. 0.]\n",
      "  ...\n",
      "  [0. 0. 0. ... 0. 0. 0.]\n",
      "  [0. 0. 0. ... 0. 0. 0.]\n",
      "  [0. 0. 0. ... 0. 0. 0.]]\n",
      "\n",
      " [[0. 0. 0. ... 0. 0. 0.]\n",
      "  [0. 0. 0. ... 0. 0. 0.]\n",
      "  [0. 0. 0. ... 0. 0. 0.]\n",
      "  ...\n",
      "  [0. 0. 0. ... 0. 0. 0.]\n",
      "  [0. 0. 0. ... 0. 0. 0.]\n",
      "  [0. 0. 0. ... 0. 0. 0.]]]\n",
      "\n"
     ]
    }
   ],
   "source": [
    "# number of acquisition angles\n",
    "angles_num = 20\n",
    "# detector pixel width\n",
    "det_w = 1.0\n",
    "# number of pixels in a detector row\n",
    "det_h = 200\n",
    "# number of pixels in a detector column\n",
    "det_v = 200\n",
    "# distance from source to centre of rotation\n",
    "dist_source_center = 300\n",
    "# distance from centre of rotation to detetctor\n",
    "dist_center_detector = 300\n",
    "# acquisition angles\n",
    "angles = numpy.linspace(0, numpy.pi, angles_num, endpoint = False)\n",
    "# create acquisition geometry\n",
    "ag_cone = AcquisitionGeometry(geom_type='cone',\n",
    "                              dimension='2D',\n",
    "                              angles=angles,\n",
    "                              pixel_num_h=det_h,\n",
    "                              pixel_size_h=det_w,\n",
    "                              pixel_num_v=det_v,\n",
    "                              pixel_size_v=det_w,\n",
    "                              dist_source_center=dist_source_center,\n",
    "                              dist_center_detector=dist_center_detector)  \n",
    "\n",
    "# allocate AcquisitionData\n",
    "acquisition_data_cone = ag_cone.allocate()\n",
    "print('Acquisition geometry \\n {}\\nAcquisition data \\n {}\\nArray \\n {}\\n'.format(ag_cone, acquisition_data_cone, acquisition_data_cone.as_array()))"
   ]
  },
  {
   "cell_type": "markdown",
   "metadata": {},
   "source": [
    "Finally, we will show multi-channel fan-beam geometry"
   ]
  },
  {
   "cell_type": "code",
   "execution_count": 35,
   "metadata": {},
   "outputs": [
    {
     "name": "stdout",
     "output_type": "stream",
     "text": [
      "Acquisition geometry \n",
      " Number of dimensions: 2D\n",
      "angles: [0.         0.15707963 0.31415927 0.4712389  0.62831853 0.78539816\n",
      " 0.9424778  1.09955743 1.25663706 1.41371669 1.57079633 1.72787596\n",
      " 1.88495559 2.04203522 2.19911486 2.35619449 2.51327412 2.67035376\n",
      " 2.82743339 2.98451302]\n",
      "voxel_num : h200,v0\n",
      "voxel size: h1.0,v1\n",
      "geometry type: cone\n",
      "distance source-detector: 300\n",
      "distance center-detector: 300\n",
      "number of channels: 100\n",
      "\n",
      "Acquisition data \n",
      " Number of dimensions: 3\n",
      "Shape: (100, 20, 200)\n",
      "Axis labels: {0: u'channel', 1: u'angle', 2: u'horizontal'}\n",
      "\n",
      "Array \n",
      " [[[0. 0. 0. ... 0. 0. 0.]\n",
      "  [0. 0. 0. ... 0. 0. 0.]\n",
      "  [0. 0. 0. ... 0. 0. 0.]\n",
      "  ...\n",
      "  [0. 0. 0. ... 0. 0. 0.]\n",
      "  [0. 0. 0. ... 0. 0. 0.]\n",
      "  [0. 0. 0. ... 0. 0. 0.]]\n",
      "\n",
      " [[0. 0. 0. ... 0. 0. 0.]\n",
      "  [0. 0. 0. ... 0. 0. 0.]\n",
      "  [0. 0. 0. ... 0. 0. 0.]\n",
      "  ...\n",
      "  [0. 0. 0. ... 0. 0. 0.]\n",
      "  [0. 0. 0. ... 0. 0. 0.]\n",
      "  [0. 0. 0. ... 0. 0. 0.]]\n",
      "\n",
      " [[0. 0. 0. ... 0. 0. 0.]\n",
      "  [0. 0. 0. ... 0. 0. 0.]\n",
      "  [0. 0. 0. ... 0. 0. 0.]\n",
      "  ...\n",
      "  [0. 0. 0. ... 0. 0. 0.]\n",
      "  [0. 0. 0. ... 0. 0. 0.]\n",
      "  [0. 0. 0. ... 0. 0. 0.]]\n",
      "\n",
      " ...\n",
      "\n",
      " [[0. 0. 0. ... 0. 0. 0.]\n",
      "  [0. 0. 0. ... 0. 0. 0.]\n",
      "  [0. 0. 0. ... 0. 0. 0.]\n",
      "  ...\n",
      "  [0. 0. 0. ... 0. 0. 0.]\n",
      "  [0. 0. 0. ... 0. 0. 0.]\n",
      "  [0. 0. 0. ... 0. 0. 0.]]\n",
      "\n",
      " [[0. 0. 0. ... 0. 0. 0.]\n",
      "  [0. 0. 0. ... 0. 0. 0.]\n",
      "  [0. 0. 0. ... 0. 0. 0.]\n",
      "  ...\n",
      "  [0. 0. 0. ... 0. 0. 0.]\n",
      "  [0. 0. 0. ... 0. 0. 0.]\n",
      "  [0. 0. 0. ... 0. 0. 0.]]\n",
      "\n",
      " [[0. 0. 0. ... 0. 0. 0.]\n",
      "  [0. 0. 0. ... 0. 0. 0.]\n",
      "  [0. 0. 0. ... 0. 0. 0.]\n",
      "  ...\n",
      "  [0. 0. 0. ... 0. 0. 0.]\n",
      "  [0. 0. 0. ... 0. 0. 0.]\n",
      "  [0. 0. 0. ... 0. 0. 0.]]]\n",
      "\n"
     ]
    }
   ],
   "source": [
    "# number of channels\n",
    "n_channels = 100\n",
    "\n",
    "ag_fan = AcquisitionGeometry(geom_type='cone',\n",
    "                             dimension='2D',\n",
    "                             angles=angles,\n",
    "                             pixel_num_h=det_h,\n",
    "                             pixel_size_h=det_w,\n",
    "                             dist_source_center=dist_source_center,\n",
    "                             dist_center_detector=dist_center_detector,\n",
    "                             channels=n_channels) \n",
    "\n",
    "# allocate AcquisitionData\n",
    "acquisition_data_fan = ag_fan.allocate()\n",
    "print('Acquisition geometry \\n {}\\nAcquisition data \\n {}\\nArray \\n {}\\n'.format(ag_fan, acquisition_data_fan, acquisition_data_fan.as_array()))"
   ]
  },
  {
   "cell_type": "markdown",
   "metadata": {},
   "source": [
    "AcquisitionData is subclass of DataContainer consequently all arithmetic operations can be also performed on AcquisitionData (as we have seen for ImageData)."
   ]
  },
  {
   "cell_type": "code",
   "execution_count": 36,
   "metadata": {},
   "outputs": [
    {
     "name": "stdout",
     "output_type": "stream",
     "text": [
      "a ** b \n",
      "[[[8. 8. 8. ... 8. 8. 8.]\n",
      "  [8. 8. 8. ... 8. 8. 8.]\n",
      "  [8. 8. 8. ... 8. 8. 8.]\n",
      "  ...\n",
      "  [8. 8. 8. ... 8. 8. 8.]\n",
      "  [8. 8. 8. ... 8. 8. 8.]\n",
      "  [8. 8. 8. ... 8. 8. 8.]]\n",
      "\n",
      " [[8. 8. 8. ... 8. 8. 8.]\n",
      "  [8. 8. 8. ... 8. 8. 8.]\n",
      "  [8. 8. 8. ... 8. 8. 8.]\n",
      "  ...\n",
      "  [8. 8. 8. ... 8. 8. 8.]\n",
      "  [8. 8. 8. ... 8. 8. 8.]\n",
      "  [8. 8. 8. ... 8. 8. 8.]]\n",
      "\n",
      " [[8. 8. 8. ... 8. 8. 8.]\n",
      "  [8. 8. 8. ... 8. 8. 8.]\n",
      "  [8. 8. 8. ... 8. 8. 8.]\n",
      "  ...\n",
      "  [8. 8. 8. ... 8. 8. 8.]\n",
      "  [8. 8. 8. ... 8. 8. 8.]\n",
      "  [8. 8. 8. ... 8. 8. 8.]]\n",
      "\n",
      " ...\n",
      "\n",
      " [[8. 8. 8. ... 8. 8. 8.]\n",
      "  [8. 8. 8. ... 8. 8. 8.]\n",
      "  [8. 8. 8. ... 8. 8. 8.]\n",
      "  ...\n",
      "  [8. 8. 8. ... 8. 8. 8.]\n",
      "  [8. 8. 8. ... 8. 8. 8.]\n",
      "  [8. 8. 8. ... 8. 8. 8.]]\n",
      "\n",
      " [[8. 8. 8. ... 8. 8. 8.]\n",
      "  [8. 8. 8. ... 8. 8. 8.]\n",
      "  [8. 8. 8. ... 8. 8. 8.]\n",
      "  ...\n",
      "  [8. 8. 8. ... 8. 8. 8.]\n",
      "  [8. 8. 8. ... 8. 8. 8.]\n",
      "  [8. 8. 8. ... 8. 8. 8.]]\n",
      "\n",
      " [[8. 8. 8. ... 8. 8. 8.]\n",
      "  [8. 8. 8. ... 8. 8. 8.]\n",
      "  [8. 8. 8. ... 8. 8. 8.]\n",
      "  ...\n",
      "  [8. 8. 8. ... 8. 8. 8.]\n",
      "  [8. 8. 8. ... 8. 8. 8.]\n",
      "  [8. 8. 8. ... 8. 8. 8.]]]\n",
      "\n",
      "Acquisition geometry \n",
      "Number of dimensions: 2D\n",
      "angles: [0.         0.15707963 0.31415927 0.4712389  0.62831853 0.78539816\n",
      " 0.9424778  1.09955743 1.25663706 1.41371669 1.57079633 1.72787596\n",
      " 1.88495559 2.04203522 2.19911486 2.35619449 2.51327412 2.67035376\n",
      " 2.82743339 2.98451302]\n",
      "voxel_num : h200,v0\n",
      "voxel size: h1.0,v1\n",
      "geometry type: cone\n",
      "distance source-detector: 300\n",
      "distance center-detector: 300\n",
      "number of channels: 100\n",
      "\n",
      "\n"
     ]
    }
   ],
   "source": [
    "a = ag_fan.allocate(2)\n",
    "b = ag_fan.allocate(3)\n",
    "\n",
    "c = a ** b\n",
    "\n",
    "print('a ** b \\n{}\\n'.format(c.as_array()))\n",
    "print('Acquisition geometry of a ** b\\n{}\\n'.format(c.geometry))"
   ]
  },
  {
   "cell_type": "markdown",
   "metadata": {},
   "source": [
    "### Summary"
   ]
  }
 ],
 "metadata": {
  "kernelspec": {
   "display_name": "Python 2",
   "language": "python",
   "name": "python2"
  },
  "language_info": {
   "codemirror_mode": {
    "name": "ipython",
    "version": 2
   },
   "file_extension": ".py",
   "mimetype": "text/x-python",
   "name": "python",
   "nbconvert_exporter": "python",
   "pygments_lexer": "ipython2",
   "version": "2.7.15+"
  }
 },
 "nbformat": 4,
 "nbformat_minor": 2
}
