{
 "cells": [
  {
   "cell_type": "code",
   "execution_count": null,
   "metadata": {},
   "outputs": [],
   "source": [
    "from ccpi.framework import ImageData, ImageGeometry\n",
    "from ccpi.framework import AcquisitionGeometry, AcquisitionData\n",
    "from ccpi.optimisation.algorithms import CGLS, FISTA\n",
    "from ccpi.optimisation.functions import Norm2Sq, L1Norm\n",
    "from ccpi.optimisation.operators import BlockOperator, Gradient, Identity\n",
    "from ccpi.framework import BlockDataContainer\n",
    "\n",
    "from ccpi.processors import CenterOfRotationFinder\n",
    "\n",
    "from ccpi.io import NEXUSDataReader\n",
    "from ccpi.astra.operators import AstraProjector3DSimple\n",
    "\n",
    "# All external imports\n",
    "import numpy\n",
    "import matplotlib.pyplot as plt\n",
    "import os\n",
    "import sys\n",
    "import scipy\n",
    "from utilities import islicer\n"
   ]
  },
  {
   "cell_type": "code",
   "execution_count": null,
   "metadata": {},
   "outputs": [],
   "source": [
    "## Set up a reader object pointing to the Nexus data set. Revise path as needed.\n",
    "# The data is already  corrected for by flat and dark field.\n",
    "\n",
    "nexus_file=os.path.join(sys.prefix, 'share','ccpi','24737_fd_normalised.nxs')\n",
    "myreader = NEXUSDataReader(nexus_file=nexus_file)\n",
    "data_raw = myreader.load_data()\n",
    "# Negative logarithm transoform.\n",
    "data_raw.fill( -numpy.log(data_raw.as_array() ))"
   ]
  },
  {
   "cell_type": "code",
   "execution_count": null,
   "metadata": {},
   "outputs": [],
   "source": []
  },
  {
   "cell_type": "code",
   "execution_count": null,
   "metadata": {},
   "outputs": [],
   "source": [
    "print(\"data shape: \", data_raw.shape)\n",
    "islicer(data_raw, direction=0)"
   ]
  },
  {
   "cell_type": "code",
   "execution_count": null,
   "metadata": {},
   "outputs": [],
   "source": [
    "from ccpi.processors import Resizer\n",
    "\n",
    "resizer = Resizer(roi=[-1,(1,135),-1])\n",
    "resizer.set_input(data_raw)\n",
    "data_cropped = resizer.get_output()"
   ]
  },
  {
   "cell_type": "code",
   "execution_count": null,
   "metadata": {},
   "outputs": [],
   "source": [
    "data_cropped.shape"
   ]
  },
  {
   "cell_type": "code",
   "execution_count": null,
   "metadata": {},
   "outputs": [],
   "source": [
    "islicer(data_cropped, direction=0)"
   ]
  },
  {
   "cell_type": "code",
   "execution_count": null,
   "metadata": {},
   "outputs": [],
   "source": [
    "# Set up CenterOfRotationFinder object to center data.\n",
    "# Set the output of the normaliser as the input and execute to determine center.\n",
    "cor = CenterOfRotationFinder()\n",
    "cor.set_input(data_cropped)\n",
    "center_of_rotation = cor.get_output()\n",
    "print( \"centre of rotation at pixel: \", center_of_rotation)"
   ]
  },
  {
   "cell_type": "code",
   "execution_count": null,
   "metadata": {},
   "outputs": [],
   "source": [
    "#exercise use the resizer to crop the image "
   ]
  },
  {
   "cell_type": "code",
   "execution_count": null,
   "metadata": {},
   "outputs": [],
   "source": [
    "resizer = Resizer(roi=[-1,-1,(12,160)])\n",
    "resizer.set_input(data_cropped)\n",
    "data_centred = resizer.get_output()"
   ]
  },
  {
   "cell_type": "code",
   "execution_count": null,
   "metadata": {},
   "outputs": [],
   "source": [
    "islicer(data_centred, direction=0)"
   ]
  },
  {
   "cell_type": "code",
   "execution_count": null,
   "metadata": {},
   "outputs": [],
   "source": [
    "data_centred.shape"
   ]
  },
  {
   "cell_type": "code",
   "execution_count": null,
   "metadata": {},
   "outputs": [],
   "source": [
    "# Permute array and convert angles to radions for ASTRA\n",
    "data = data_centred.subset(dimensions=['vertical','angle','horizontal'])\n",
    "data.geometry = data_centred.geometry\n",
    "data.geometry.angles = data_centred.geometry.angles*numpy.pi/180."
   ]
  },
  {
   "cell_type": "code",
   "execution_count": null,
   "metadata": {},
   "outputs": [],
   "source": [
    "islicer(data, direction=1)"
   ]
  },
  {
   "cell_type": "code",
   "execution_count": null,
   "metadata": {},
   "outputs": [],
   "source": [
    "# Create Acquisition and Image Geometries for setting up projector.\n",
    "ag = data.geometry\n",
    "ig = ImageGeometry(voxel_num_x=ag.pixel_num_h,\n",
    "                   voxel_num_y=ag.pixel_num_h, \n",
    "                   voxel_num_z=ag.pixel_num_v)\n",
    "ag.dimension_labels = ['vertical','angle','horizontal']\n",
    "# Define the projector object\n",
    "print (\"Define projector\")\n",
    "Cop = AstraProjector3DSimple(ig, ag)"
   ]
  },
  {
   "cell_type": "code",
   "execution_count": null,
   "metadata": {},
   "outputs": [],
   "source": [
    "# Test backprojection and projection\n",
    "z1 = Cop.adjoint(data)\n",
    "z2 = Cop.direct(z1)\n",
    "\n",
    "plt.imshow(z1.subset(horizontal_x=68).array)\n",
    "plt.show()"
   ]
  },
  {
   "cell_type": "code",
   "execution_count": null,
   "metadata": {},
   "outputs": [],
   "source": [
    "#define the operator A\n",
    "L = Gradient(ig)\n",
    "alpha = 0\n",
    "operator_block = BlockOperator( Cop, alpha * L, shape=(2,1))"
   ]
  },
  {
   "cell_type": "code",
   "execution_count": null,
   "metadata": {},
   "outputs": [],
   "source": [
    "#define the data b\n",
    "data_block = BlockDataContainer(data, L.range_geometry().allocate())"
   ]
  },
  {
   "cell_type": "code",
   "execution_count": null,
   "metadata": {},
   "outputs": [],
   "source": [
    "#setup CGLS\n",
    "x_init = ig.allocate(0)\n",
    "cgls = CGLS(x_init=x_init, operator=operator_block, data=data_block)\n",
    "cgls.max_iteration = 1000\n",
    "cgls.update_objective_interval = 100"
   ]
  },
  {
   "cell_type": "code",
   "execution_count": null,
   "metadata": {},
   "outputs": [],
   "source": [
    "#run the algorithm\n",
    "cgls.run(100, verbose = True)"
   ]
  },
  {
   "cell_type": "code",
   "execution_count": null,
   "metadata": {},
   "outputs": [],
   "source": [
    "x_CGLS_0 = cgls.get_output()\n",
    "x_CGLS_0_objective = cgls.objective"
   ]
  },
  {
   "cell_type": "code",
   "execution_count": null,
   "metadata": {},
   "outputs": [],
   "source": [
    "x_CGLS_reg = cgls.get_output()\n",
    "x_CGLS_reg_objective = cgls.objective"
   ]
  },
  {
   "cell_type": "code",
   "execution_count": null,
   "metadata": {},
   "outputs": [],
   "source": [
    "#output = x_CGLS.as_array()\n",
    "#f=open(\"testout.raw\",\"wb\")\n",
    "#output.astype(dtype=numpy.float32).tofile(f)"
   ]
  },
  {
   "cell_type": "code",
   "execution_count": null,
   "metadata": {},
   "outputs": [],
   "source": [
    "#print(output.shape)"
   ]
  },
  {
   "cell_type": "code",
   "execution_count": null,
   "metadata": {},
   "outputs": [],
   "source": [
    "islicer(x_CGLS_0, direction=0)\n",
    "islicer(x_CGLS_reg, direction=0)"
   ]
  },
  {
   "cell_type": "code",
   "execution_count": null,
   "metadata": {},
   "outputs": [],
   "source": [
    "\n",
    "x_CGLS = x_CGLS_reg\n",
    "x_CGLS_objective = x_CGLS_reg_objective"
   ]
  },
  {
   "cell_type": "code",
   "execution_count": null,
   "metadata": {},
   "outputs": [],
   "source": [
    "# Fix color and slices for display\n",
    "v1 = -0.01\n",
    "v2 = 0.13\n",
    "hx=80\n",
    "hy=80\n",
    "v=68\n",
    "\n",
    "# Display ortho slices of reconstruction\n",
    "# Display all reconstructions and decay of objective function\n",
    "cols = 3\n",
    "rows = 1\n",
    "fig = plt.figure()\n",
    "\n",
    "current = 1\n",
    "a=fig.add_subplot(rows,cols,current)\n",
    "a.set_title('horizontal_x')\n",
    "imgplot = plt.imshow(x_CGLS.subset(horizontal_x=hx).as_array(),vmin=v1,vmax=v2)\n",
    "\n",
    "current = current + 1\n",
    "a=fig.add_subplot(rows,cols,current)\n",
    "a.set_title('horizontal_y')\n",
    "imgplot = plt.imshow(x_CGLS.subset(horizontal_y=hy).as_array(),vmin=v1,vmax=v2)\n",
    "\n",
    "current = current + 1\n",
    "a=fig.add_subplot(rows,cols,current)\n",
    "a.set_title('vertical')\n",
    "imgplot = plt.imshow(x_CGLS.subset(vertical=v).as_array(),vmin=v1,vmax=v2)\n",
    "plt.colorbar()\n",
    "\n",
    "plt.suptitle('CGLS reconstruction slices')\n",
    "plt.show()\n",
    "\n",
    "plt.figure()\n",
    "plt.semilogy(x_CGLS_objective)\n",
    "plt.title('CGLS criterion')\n",
    "plt.show()"
   ]
  },
  {
   "cell_type": "code",
   "execution_count": null,
   "metadata": {},
   "outputs": [],
   "source": [
    "utilities.interactive_slice_display(x_CGLS, direction=0)"
   ]
  },
  {
   "cell_type": "code",
   "execution_count": null,
   "metadata": {},
   "outputs": [],
   "source": []
  },
  {
   "cell_type": "code",
   "execution_count": null,
   "metadata": {},
   "outputs": [],
   "source": []
  }
 ],
 "metadata": {
  "kernelspec": {
   "display_name": "Python [conda env:.conda-cil_19.07] *",
   "language": "python",
   "name": "conda-env-.conda-cil_19.07-py"
  },
  "language_info": {
   "codemirror_mode": {
    "name": "ipython",
    "version": 3
   },
   "file_extension": ".py",
   "mimetype": "text/x-python",
   "name": "python",
   "nbconvert_exporter": "python",
   "pygments_lexer": "ipython3",
   "version": "3.6.7"
  }
 },
 "nbformat": 4,
 "nbformat_minor": 2
}
