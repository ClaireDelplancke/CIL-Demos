{
 "cells": [
  {
   "cell_type": "code",
   "execution_count": null,
   "metadata": {},
   "outputs": [],
   "source": [
    "#========================================================================\n",
    "# Copyright 2019 Science Technology Facilities Council\n",
    "# Copyright 2019 University of Manchester\n",
    "#\n",
    "# This work is part of the Core Imaging Library developed by Science Technology\t\n",
    "# Facilities Council and University of Manchester\n",
    "#\n",
    "# Licensed under the Apache License, Version 2.0 (the \"License\");\n",
    "# you may not use this file except in compliance with the License.\n",
    "# You may obtain a copy of the License at\n",
    "#\n",
    "# http://www.apache.org/licenses/LICENSE-2.0.txt\n",
    "# \n",
    "# Unless required by applicable law or agreed to in writing, software\n",
    "# distributed under the License is distributed on an \"AS IS\" BASIS,\n",
    "# WITHOUT WARRANTIES OR CONDITIONS OF ANY KIND, either express or implied.\n",
    "# See the License for the specific language governing permissions and\n",
    "# limitations under the License.\n",
    "# \n",
    "#========================================================================="
   ]
  },
  {
   "cell_type": "markdown",
   "metadata": {},
   "source": [
    "## Preproccesing and recostructing a dataset from DLS\n",
    "Few lines intro"
   ]
  },
  {
   "cell_type": "markdown",
   "metadata": {},
   "source": [
    "**Learning objectives:**\n",
    "1. Centre of rotation\n",
    "2. Reizer\n",
    "3. reconstructing a real dataset"
   ]
  },
  {
   "cell_type": "code",
   "execution_count": null,
   "metadata": {},
   "outputs": [],
   "source": [
    "from __future__ import absolute_import\n",
    "from __future__ import division\n",
    "from __future__ import print_function\n",
    "from __future__ import unicode_literals\n",
    "\n",
    "from ccpi.framework import ImageData, ImageGeometry\n",
    "from ccpi.framework import AcquisitionGeometry, AcquisitionData\n",
    "\n",
    "from ccpi.optimisation.algorithms import CGLS, SIRT\n",
    "from ccpi.optimisation.functions import Norm2Sq, L1Norm\n",
    "from ccpi.optimisation.operators import BlockOperator, Gradient, Identity\n",
    "from ccpi.framework import BlockDataContainer\n",
    "\n",
    "from ccpi.processors import Resizer, CenterOfRotationFinder\n",
    "\n",
    "from ccpi.io import NEXUSDataReader\n",
    "from ccpi.astra.operators import AstraProjectorSimple , AstraProjector3DSimple\n",
    "\n",
    "# All external imports\n",
    "import numpy as np\n",
    "import matplotlib.pyplot as plt\n",
    "import os\n",
    "import sys\n",
    "import scipy\n",
    "from utilities import islicer\n",
    "from utilities import plotter2D\n"
   ]
  },
  {
   "cell_type": "markdown",
   "metadata": {},
   "source": [
    "### Read in the dataset"
   ]
  },
  {
   "cell_type": "markdown",
   "metadata": {},
   "source": [
    "About the data?"
   ]
  },
  {
   "cell_type": "code",
   "execution_count": null,
   "metadata": {},
   "outputs": [],
   "source": [
    "## Set up a reader object pointing to the Nexus data set. Revise path as needed.\n",
    "# The data is already  corrected for by flat and dark field.\n",
    "path = os.path.join(sys.prefix, 'share','ccpi','24737_fd_normalised.nxs')\n",
    "myreader = NEXUSDataReader(nexus_file=path)\n",
    "data_raw = myreader.load_data()"
   ]
  },
  {
   "cell_type": "code",
   "execution_count": null,
   "metadata": {},
   "outputs": [],
   "source": [
    "#Look at the data set\n",
    "print(type(data_raw))\n",
    "print(data_raw)\n",
    "islicer(data_raw, direction=0)"
   ]
  },
  {
   "cell_type": "markdown",
   "metadata": {},
   "source": [
    "### Use Resizer() to pre-proccess the data"
   ]
  },
  {
   "cell_type": "markdown",
   "metadata": {},
   "source": [
    "We want to remove the top row data with the dark pixel\n",
    "\n",
    "Use the processor Resizer()\n"
   ]
  },
  {
   "cell_type": "code",
   "execution_count": null,
   "metadata": {},
   "outputs": [],
   "source": [
    "start_row = 1\n",
    "end_row = data_raw.shape[1]\n",
    "roi_crop = [-1,(start_row, end_row),-1]"
   ]
  },
  {
   "cell_type": "code",
   "execution_count": null,
   "metadata": {},
   "outputs": [],
   "source": [
    "resizer = Resizer(roi=roi_crop)\n",
    "resizer.set_input(data_raw)\n",
    "data_cropped = resizer.get_output()"
   ]
  },
  {
   "cell_type": "code",
   "execution_count": null,
   "metadata": {},
   "outputs": [],
   "source": [
    "#Look at the data set\n",
    "print(type(data_cropped))\n",
    "print(data_cropped)\n",
    "islicer(data_cropped, direction=0)"
   ]
  },
  {
   "cell_type": "markdown",
   "metadata": {},
   "source": [
    "### Use CenterOfRotationFinder()"
   ]
  },
  {
   "cell_type": "code",
   "execution_count": null,
   "metadata": {},
   "outputs": [],
   "source": [
    "# Set up CenterOfRotationFinder object to center data.\n",
    "# Set the output of the normaliser as the input and execute to determine center.\n",
    "cor = CenterOfRotationFinder()\n",
    "cor.set_input(data_cropped)\n",
    "center_of_rotation = cor.get_output()\n",
    "print( \"centre of rotation at pixel: \", center_of_rotation)"
   ]
  },
  {
   "cell_type": "code",
   "execution_count": null,
   "metadata": {},
   "outputs": [],
   "source": [
    "#exercise use the resizer to crop the image"
   ]
  },
  {
   "cell_type": "code",
   "execution_count": null,
   "metadata": {},
   "outputs": [],
   "source": [
    "#get image width\n",
    "num_pixels_y = data_cropped.shape[2]\n",
    "cor_shift = center_of_rotation - num_pixels_y/2"
   ]
  },
  {
   "cell_type": "code",
   "execution_count": null,
   "metadata": {},
   "outputs": [],
   "source": [
    "start_column = int(round(2.*cor_shift))\n",
    "end_column = data_cropped.shape[2]\n",
    "\n",
    "roi_crop = [-1,-1,(start_column, end_column)]\n",
    "resizer = Resizer(roi=roi_crop)\n",
    "resizer.set_input(data_cropped)\n",
    "data_centred = resizer.get_output()"
   ]
  },
  {
   "cell_type": "code",
   "execution_count": null,
   "metadata": {},
   "outputs": [],
   "source": [
    "#Look at the data set\n",
    "print(type(data_centred))\n",
    "print(data_centred)\n",
    "islicer(data_centred, direction=0)"
   ]
  },
  {
   "cell_type": "markdown",
   "metadata": {},
   "source": [
    "### Set up the data ready for ASTRA\n",
    "\n",
    "ASTRA expects the data in the order `['vertical','angle','horizontal']` so we need to permute the dataset"
   ]
  },
  {
   "cell_type": "code",
   "execution_count": null,
   "metadata": {},
   "outputs": [],
   "source": [
    "print(data_centred)"
   ]
  },
  {
   "cell_type": "code",
   "execution_count": null,
   "metadata": {},
   "outputs": [],
   "source": [
    "data = data_centred.subset(dimensions=['vertical','angle','horizontal'])"
   ]
  },
  {
   "cell_type": "code",
   "execution_count": null,
   "metadata": {},
   "outputs": [],
   "source": [
    "print(data)"
   ]
  },
  {
   "cell_type": "markdown",
   "metadata": {},
   "source": [
    "ASTRA takes the angles as radians so let's convert the angles geometry data"
   ]
  },
  {
   "cell_type": "code",
   "execution_count": null,
   "metadata": {},
   "outputs": [],
   "source": [
    "#convert the angles to radians\n",
    "if(data.geometry.angle_unit == 'degree'):\n",
    "    data.geometry.angle_unit = 'radian'\n",
    "    data.geometry.angles = data.geometry.angles * np.pi /180."
   ]
  },
  {
   "cell_type": "markdown",
   "metadata": {},
   "source": [
    "And finally convert from intensity to attenuation data"
   ]
  },
  {
   "cell_type": "code",
   "execution_count": null,
   "metadata": {},
   "outputs": [],
   "source": [
    "#Convert from intensity to attenuation data\n",
    "#how can I make sure thy don't execute this more than once?\n",
    "data.fill(-np.log(data.as_array()))\n",
    "#Look at the data set\n",
    "print(type(data))\n",
    "print(data)\n",
    "islicer(data, direction=1) #remember we've transposed the data so angles is now the 2nd axis"
   ]
  },
  {
   "cell_type": "markdown",
   "metadata": {},
   "source": [
    "### Define the Geometry\n",
    "\n",
    "#### Acquistion geometry\n",
    "In the 2D example we used:<br>\n",
    "`ag = AcquisitionGeometry(geom_type='parallel', dimension='2D', angles=angles, pixel_num_h=number_pixels_x)`<br>\n",
    "\n",
    "For 3D we need to change the dimension description to ` dimension='3D'`, and pass the number of vertical pixels as `pixel_num_v`<br>\n",
    "\n",
    "However we've been using the acquistion geometry throughout this notebook so let's just clone the version we've already set up.\n",
    "\n",
    "#### Image geometry\n",
    "In the 2D example we used:<br>\n",
    "`ig = ImageGeometry(voxel_num_x = num_voxels_xy, voxel_num_y = num_voxels_xy)`\n",
    "\n",
    "For ad 3D reconstruction we also need to pass the number of voxels we want in the $z$-direction as `voxel_num_z`\n",
    "\n",
    "If you create the image geometry from the acquisiton geometry this is set to `pixel_num_h` by default."
   ]
  },
  {
   "cell_type": "code",
   "execution_count": null,
   "metadata": {},
   "outputs": [],
   "source": [
    "# Create Acquisition Geometry\n",
    "ag = data.geometry.clone()\n",
    "\n",
    "# Create Image Geometry\n",
    "ig = ImageGeometry(voxel_num_x=ag.pixel_num_h,\n",
    "                   voxel_num_y=ag.pixel_num_h, \n",
    "                   voxel_num_z=ag.pixel_num_v)"
   ]
  },
  {
   "cell_type": "markdown",
   "metadata": {},
   "source": [
    "### Define the projector\n",
    "\n",
    "In the 2D example we used the 2D projector from ASTRA<br>\n",
    "`'AstraProjectorSimple(volume_geometry, sinogram_geometry, device)`\n",
    "\n",
    "Use ASTRA's 3D projector, note this projector is GPU only<br>\n",
    "`AstraProjector3DSimple(volume_geometry, sinogram_geometry)`"
   ]
  },
  {
   "cell_type": "code",
   "execution_count": null,
   "metadata": {},
   "outputs": [],
   "source": [
    "# Define the projector object\n",
    "print (\"Define projector\")\n",
    "Cop = AstraProjector3DSimple(ig, ag)"
   ]
  },
  {
   "cell_type": "markdown",
   "metadata": {},
   "source": [
    "### Run SIRT"
   ]
  },
  {
   "cell_type": "code",
   "execution_count": null,
   "metadata": {},
   "outputs": [],
   "source": [
    "#setup SIRT\n",
    "x_init = ig.allocate(0)\n",
    "sirt = SIRT(x_init=x_init, operator=Cop, data=data, update_objective_interval = 10)\n",
    "sirt.max_iteration = 1000"
   ]
  },
  {
   "cell_type": "code",
   "execution_count": null,
   "metadata": {},
   "outputs": [],
   "source": [
    "#run the algorithm\n",
    "sirt.run(100, verbose = True)"
   ]
  },
  {
   "cell_type": "code",
   "execution_count": null,
   "metadata": {},
   "outputs": [],
   "source": [
    "#plot the results\n",
    "SIRT_output = sirt.get_output()\n",
    "islicer(SIRT_output, direction=0,fix_range=False)"
   ]
  },
  {
   "cell_type": "markdown",
   "metadata": {},
   "source": [
    "### Run Tikhonov CGLS"
   ]
  },
  {
   "cell_type": "code",
   "execution_count": null,
   "metadata": {},
   "outputs": [],
   "source": [
    "#define the operator\n",
    "alpha = 5\n",
    "L = Gradient(ig)\n",
    "operator_block = BlockOperator( Cop, alpha * L, shape=(2,1))"
   ]
  },
  {
   "cell_type": "code",
   "execution_count": null,
   "metadata": {},
   "outputs": [],
   "source": [
    "#define the data b\n",
    "data_block = BlockDataContainer(data, L.range_geometry().allocate(0))"
   ]
  },
  {
   "cell_type": "code",
   "execution_count": null,
   "metadata": {},
   "outputs": [],
   "source": [
    "#setup Tikonov\n",
    "L = Gradient(ig)\n",
    "alpha = 75\n",
    "\n",
    "x_init = ig.allocate(0)\n",
    "cgls_tikhonov = CGLS(x_init=x_init, operator=operator_block, data=data_block, update_objective_interval = 10)\n",
    "cgls_tikhonov.max_iteration = 1000"
   ]
  },
  {
   "cell_type": "code",
   "execution_count": null,
   "metadata": {},
   "outputs": [],
   "source": [
    "#run the algorithm\n",
    "cgls_tikhonov.run(100, verbose = True)"
   ]
  },
  {
   "cell_type": "code",
   "execution_count": null,
   "metadata": {},
   "outputs": [],
   "source": [
    "#plot the results\n",
    "CGLS_tikhonov_output = cgls_tikhonov.get_output()\n",
    "\n",
    "islicer(CGLS_tikhonov_output, direction=0,fix_range=False)"
   ]
  },
  {
   "cell_type": "markdown",
   "metadata": {},
   "source": [
    "### Run FBP"
   ]
  },
  {
   "cell_type": "code",
   "execution_count": null,
   "metadata": {},
   "outputs": [],
   "source": [
    "#setup FBP\n"
   ]
  },
  {
   "cell_type": "code",
   "execution_count": null,
   "metadata": {},
   "outputs": [],
   "source": [
    "\n"
   ]
  },
  {
   "cell_type": "code",
   "execution_count": null,
   "metadata": {},
   "outputs": [],
   "source": [
    "#plot the results\n",
    "#islicer(FBP_output, direction=0,fix_range=False)"
   ]
  },
  {
   "cell_type": "code",
   "execution_count": null,
   "metadata": {},
   "outputs": [],
   "source": []
  },
  {
   "cell_type": "markdown",
   "metadata": {},
   "source": [
    "### Summary"
   ]
  },
  {
   "cell_type": "code",
   "execution_count": null,
   "metadata": {},
   "outputs": [],
   "source": [
    "#compare the outputs of unregularise and regularised CGLS\n",
    "\n",
    "islicer(SIRT_output, direction=0,fix_range=False)\n",
    "islicer(CGLS_tikhonov_output, direction=0,fix_range=False)\n",
    "#islicer(FBP_output, direction=0,fix_range=False)"
   ]
  },
  {
   "cell_type": "code",
   "execution_count": null,
   "metadata": {},
   "outputs": [],
   "source": []
  },
  {
   "cell_type": "code",
   "execution_count": null,
   "metadata": {},
   "outputs": [],
   "source": []
  },
  {
   "cell_type": "code",
   "execution_count": null,
   "metadata": {},
   "outputs": [],
   "source": []
  },
  {
   "cell_type": "code",
   "execution_count": null,
   "metadata": {},
   "outputs": [],
   "source": []
  }
 ],
 "metadata": {
  "kernelspec": {
   "display_name": "Python [conda env:.conda-cil_19.07] *",
   "language": "python",
   "name": "conda-env-.conda-cil_19.07-py"
  },
  "language_info": {
   "codemirror_mode": {
    "name": "ipython",
    "version": 3
   },
   "file_extension": ".py",
   "mimetype": "text/x-python",
   "name": "python",
   "nbconvert_exporter": "python",
   "pygments_lexer": "ipython3",
   "version": "3.6.7"
  }
 },
 "nbformat": 4,
 "nbformat_minor": 2
}
