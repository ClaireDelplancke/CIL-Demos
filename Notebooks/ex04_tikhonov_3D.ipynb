{
 "cells": [
  {
   "cell_type": "code",
   "execution_count": 1,
   "metadata": {},
   "outputs": [],
   "source": [
    "from ccpi.framework import ImageData, ImageGeometry\n",
    "from ccpi.framework import AcquisitionGeometry, AcquisitionData\n",
    "from ccpi.optimisation.algorithms import CGLS, FISTA\n",
    "from ccpi.optimisation.functions import Norm2Sq, L1Norm\n",
    "from ccpi.optimisation.operators import BlockOperator, Gradient, Identity\n",
    "from ccpi.framework import BlockDataContainer\n",
    "\n",
    "from ccpi.processors import CenterOfRotationFinder\n",
    "\n",
    "from ccpi.io import NEXUSDataReader\n",
    "from ccpi.astra.operators import AstraProjector3DSimple\n",
    "\n",
    "# All external imports\n",
    "import numpy\n",
    "import matplotlib.pyplot as plt\n",
    "import os\n",
    "import sys\n",
    "import scipy\n",
    "import utilities\n",
    "from utilities import interactive_slice_display\n"
   ]
  },
  {
   "cell_type": "code",
   "execution_count": 2,
   "metadata": {},
   "outputs": [],
   "source": [
    "## Set up a reader object pointing to the Nexus data set. Revise path as needed.\n",
    "# The data is already  corrected for by flat and dark field.\n",
    "\n",
    "nexus_file=os.path.join(sys.prefix, 'share','ccpi','24737_fd_normalised.nxs')\n",
    "myreader = NEXUSDataReader(nexus_file=nexus_file)\n",
    "data_raw = myreader.load_data()\n",
    "# Negative logarithm transoform.\n",
    "data_raw.fill( -numpy.log(data_raw.as_array() ))"
   ]
  },
  {
   "cell_type": "code",
   "execution_count": 3,
   "metadata": {},
   "outputs": [
    {
     "data": {
      "application/vnd.jupyter.widget-view+json": {
       "model_id": "ff3eecf7702a4da7aa6b71a9cf5ffd71",
       "version_major": 2,
       "version_minor": 0
      },
      "text/plain": [
       "interactive(children=(IntSlider(value=0, continuous_update=False, description='x', max=90), Output()), _dom_cl…"
      ]
     },
     "metadata": {},
     "output_type": "display_data"
    }
   ],
   "source": [
    "ag = data_raw.geometry.clone()\n",
    "cropped_data_array = data_raw.array[:,1:,:]\n",
    "ag.pixel_num_v = cropped_data_array.shape[1]\n",
    "data_reduce = ag.allocate()\n",
    "data_reduce.fill(cropped_data_array)\n",
    "interactive_slice_display(data_reduce, direction=0, auto_range=\"true\")"
   ]
  },
  {
   "cell_type": "code",
   "execution_count": 5,
   "metadata": {},
   "outputs": [
    {
     "name": "stdout",
     "output_type": "stream",
     "text": [
      "86.25\n"
     ]
    }
   ],
   "source": [
    "# Set up CenterOfRotationFinder object to center data.\n",
    "# Set the output of the normaliser as the input and execute to determine center.\n",
    "cor = CenterOfRotationFinder()\n",
    "cor.set_input(data_reduce)\n",
    "center_of_rotation = cor.get_output()\n",
    "print(center_of_rotation)"
   ]
  },
  {
   "cell_type": "code",
   "execution_count": 6,
   "metadata": {},
   "outputs": [],
   "source": [
    "# From computed center, determine amount of zero-padding to apply, apply\n",
    "# and update geometry to wider detector.\n",
    "cor_pad = int(2*(center_of_rotation - data_reduce.shape[2]/2))\n",
    "padded_data_array = numpy.zeros((data_reduce.shape[0],data_reduce.shape[1],data_reduce.shape[2]+cor_pad))\n",
    "padded_data_array.fill(0.360768557)\n",
    "padded_data_array[:,:,:-cor_pad] = data_reduce.as_array()"
   ]
  },
  {
   "cell_type": "code",
   "execution_count": 7,
   "metadata": {},
   "outputs": [],
   "source": [
    "ag.pixel_num_h = data_reduce.geometry.pixel_num_h + cor_pad\n",
    "data_centred = ag.allocate()\n",
    "data_centred.fill(padded_data_array)"
   ]
  },
  {
   "cell_type": "code",
   "execution_count": 8,
   "metadata": {},
   "outputs": [],
   "source": [
    "# Permute array and convert angles to radions for ASTRA\n",
    "padded_data = data_centred.subset(dimensions=['vertical','angle','horizontal'])\n",
    "padded_data.geometry = data_centred.geometry\n",
    "padded_data.geometry.angles = data_centred.geometry.angles*numpy.pi/180."
   ]
  },
  {
   "cell_type": "code",
   "execution_count": 9,
   "metadata": {},
   "outputs": [
    {
     "data": {
      "application/vnd.jupyter.widget-view+json": {
       "model_id": "9c846e35ec594cf0a33365a6b2fb2dae",
       "version_major": 2,
       "version_minor": 0
      },
      "text/plain": [
       "interactive(children=(IntSlider(value=0, continuous_update=False, description='x', max=90), Output()), _dom_cl…"
      ]
     },
     "metadata": {},
     "output_type": "display_data"
    }
   ],
   "source": [
    "interactive_slice_display(data_reduce, direction=0, auto_range=\"true\")"
   ]
  },
  {
   "cell_type": "code",
   "execution_count": 10,
   "metadata": {},
   "outputs": [
    {
     "name": "stdout",
     "output_type": "stream",
     "text": [
      "Define projector\n"
     ]
    }
   ],
   "source": [
    "# Create Acquisition and Image Geometries for setting up projector.\n",
    "ag = padded_data.geometry\n",
    "ig = ImageGeometry(voxel_num_x=ag.pixel_num_h,\n",
    "                   voxel_num_y=ag.pixel_num_h, \n",
    "                   voxel_num_z=ag.pixel_num_v)\n",
    "ag.dimension_labels = ['vertical','angle','horizontal']\n",
    "# Define the projector object\n",
    "print (\"Define projector\")\n",
    "Cop = AstraProjector3DSimple(ig, ag)"
   ]
  },
  {
   "cell_type": "code",
   "execution_count": 11,
   "metadata": {},
   "outputs": [
    {
     "data": {
      "image/png": "[encoded data removed]",
      "text/plain": [
       "<Figure size 432x288 with 1 Axes>"
      ]
     },
     "metadata": {
      "needs_background": "light"
     },
     "output_type": "display_data"
    }
   ],
   "source": [
    "# Test backprojection and projection\n",
    "z1 = Cop.adjoint(padded_data)\n",
    "z2 = Cop.direct(z1)\n",
    "\n",
    "plt.imshow(z1.subset(horizontal_x=68).array)\n",
    "plt.show()"
   ]
  },
  {
   "cell_type": "code",
   "execution_count": 12,
   "metadata": {},
   "outputs": [],
   "source": [
    "#define the operator A\n",
    "L = Gradient(ig)\n",
    "alpha = 0\n",
    "\n",
    "operator_block = BlockOperator( Cop, alpha * L, shape=(2,1))"
   ]
  },
  {
   "cell_type": "code",
   "execution_count": 13,
   "metadata": {},
   "outputs": [],
   "source": [
    "#define the data b\n",
    "data_block = BlockDataContainer(padded_data, L.range_geometry().allocate())"
   ]
  },
  {
   "cell_type": "code",
   "execution_count": 14,
   "metadata": {},
   "outputs": [
    {
     "name": "stdout",
     "output_type": "stream",
     "text": [
      "CGLS set_up called from creator\n"
     ]
    }
   ],
   "source": [
    "#setup CGLS\n",
    "x_init = ig.allocate(0)\n",
    "cgls = CGLS(x_init=x_init, operator=operator_block, data=data_block)\n",
    "cgls.max_iteration = 1000\n",
    "cgls.update_objective_interval = 100"
   ]
  },
  {
   "cell_type": "code",
   "execution_count": 15,
   "metadata": {},
   "outputs": [
    {
     "name": "stdout",
     "output_type": "stream",
     "text": [
      "     Iter   Max Iter     Time/Iter            Objective\n",
      "                               [s]                     \n",
      "        0       1000         0.000          1.05411e+06\n",
      "      100       1000         0.162          1.48067e+05\n",
      "      200       1000         0.161          7.42760e+01\n",
      "      300       1000         0.161          6.79778e+01\n",
      "      400       1000         0.161          6.43940e+01\n",
      "      500       1000         0.160          6.16962e+01\n",
      "      600       1000         0.161          5.96873e+01\n",
      "      700       1000         0.161          5.80596e+01\n",
      "      800       1000         0.162          5.67418e+01\n",
      "      900       1000         0.162          5.56480e+01\n",
      "     1000       1000         0.161          5.47311e+01\n"
     ]
    }
   ],
   "source": [
    "#run the algorithm\n",
    "cgls.run(1000, verbose = True)"
   ]
  },
  {
   "cell_type": "code",
   "execution_count": 17,
   "metadata": {},
   "outputs": [],
   "source": [
    "x_CGLS_0 = cgls.get_output()"
   ]
  },
  {
   "cell_type": "code",
   "execution_count": 23,
   "metadata": {},
   "outputs": [
    {
     "name": "stdout",
     "output_type": "stream",
     "text": [
      "CGLS set_up called from creator\n",
      "Stop cryterion has been reached.\n",
      "     Iter   Max Iter     Time/Iter            Objective\n",
      "                               [s]                     \n",
      "        0          0         0.000          1.05411e+06\n"
     ]
    }
   ],
   "source": [
    "alpha = 5\n",
    "x_init = ig.allocate(0)\n",
    "cgls = CGLS(x_init=x_init, operator=operator_block, data=data_block)\n",
    "cgls.run(1000, verbose = True)"
   ]
  },
  {
   "cell_type": "code",
   "execution_count": 19,
   "metadata": {},
   "outputs": [],
   "source": [
    "x_CGLS_5 = cgls.get_output()"
   ]
  },
  {
   "cell_type": "code",
   "execution_count": 20,
   "metadata": {},
   "outputs": [],
   "source": [
    "#output = x_CGLS.as_array()\n",
    "#f=open(\"testout.raw\",\"wb\")\n",
    "#output.astype(dtype=numpy.float32).tofile(f)"
   ]
  },
  {
   "cell_type": "code",
   "execution_count": 21,
   "metadata": {},
   "outputs": [],
   "source": [
    "#print(output.shape)"
   ]
  },
  {
   "cell_type": "code",
   "execution_count": 22,
   "metadata": {},
   "outputs": [
    {
     "data": {
      "application/vnd.jupyter.widget-view+json": {
       "model_id": "dc73920792ce4f35ae2db3a6b90938c6",
       "version_major": 2,
       "version_minor": 0
      },
      "text/plain": [
       "interactive(children=(IntSlider(value=0, continuous_update=False, description='x', max=133), Output()), _dom_c…"
      ]
     },
     "metadata": {},
     "output_type": "display_data"
    },
    {
     "data": {
      "application/vnd.jupyter.widget-view+json": {
       "model_id": "be9416e84f4a4680ad0b0ca3edf4b2da",
       "version_major": 2,
       "version_minor": 0
      },
      "text/plain": [
       "interactive(children=(IntSlider(value=0, continuous_update=False, description='x', max=133), Output()), _dom_c…"
      ]
     },
     "metadata": {},
     "output_type": "display_data"
    }
   ],
   "source": [
    "interactive_slice_display(x_CGLS_0, direction=0, auto_range='true')\n",
    "interactive_slice_display(x_CGLS_5, direction=0, auto_range='true')"
   ]
  },
  {
   "cell_type": "code",
   "execution_count": null,
   "metadata": {},
   "outputs": [],
   "source": []
  },
  {
   "cell_type": "code",
   "execution_count": null,
   "metadata": {},
   "outputs": [],
   "source": [
    "# Fix color and slices for display\n",
    "v1 = -0.01\n",
    "v2 = 0.13\n",
    "hx=80\n",
    "hy=80\n",
    "v=68\n",
    "\n",
    "# Display ortho slices of reconstruction\n",
    "# Display all reconstructions and decay of objective function\n",
    "cols = 3\n",
    "rows = 1\n",
    "fig = plt.figure()\n",
    "\n",
    "current = 1\n",
    "a=fig.add_subplot(rows,cols,current)\n",
    "a.set_title('horizontal_x')\n",
    "imgplot = plt.imshow(x_CGLS.subset(horizontal_x=hx).as_array(),vmin=v1,vmax=v2)\n",
    "\n",
    "current = current + 1\n",
    "a=fig.add_subplot(rows,cols,current)\n",
    "a.set_title('horizontal_y')\n",
    "imgplot = plt.imshow(x_CGLS.subset(horizontal_y=hy).as_array(),vmin=v1,vmax=v2)\n",
    "\n",
    "current = current + 1\n",
    "a=fig.add_subplot(rows,cols,current)\n",
    "a.set_title('vertical')\n",
    "imgplot = plt.imshow(x_CGLS.subset(vertical=v).as_array(),vmin=v1,vmax=v2)\n",
    "plt.colorbar()\n",
    "\n",
    "plt.suptitle('CGLS reconstruction slices')\n",
    "plt.show()\n",
    "\n",
    "plt.figure()\n",
    "plt.semilogy(CGLS_alg.objective)\n",
    "plt.title('CGLS criterion')\n",
    "plt.show()"
   ]
  },
  {
   "cell_type": "code",
   "execution_count": null,
   "metadata": {},
   "outputs": [],
   "source": [
    "utilities.interactive_slice_display(x_CGLS, direction=0)"
   ]
  },
  {
   "cell_type": "code",
   "execution_count": null,
   "metadata": {},
   "outputs": [],
   "source": []
  }
 ],
 "metadata": {
  "kernelspec": {
   "display_name": "Python [conda env:.conda-cil_19.07]",
   "language": "python",
   "name": "conda-env-.conda-cil_19.07-py"
  },
  "language_info": {
   "codemirror_mode": {
    "name": "ipython",
    "version": 3
   },
   "file_extension": ".py",
   "mimetype": "text/x-python",
   "name": "python",
   "nbconvert_exporter": "python",
   "pygments_lexer": "ipython3",
   "version": "3.6.7"
  }
 },
 "nbformat": 4,
 "nbformat_minor": 2
}
