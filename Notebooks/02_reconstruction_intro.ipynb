{
 "cells": [
  {
   "cell_type": "code",
   "execution_count": null,
   "metadata": {},
   "outputs": [],
   "source": [
    "#========================================================================\n",
    "# Copyright 2019 Science Technology Facilities Council\n",
    "# Copyright 2019 University of Manchester\n",
    "#\n",
    "# This work is part of the Core Imaging Library developed by Science Technology\t\n",
    "# Facilities Council and University of Manchester\n",
    "#\n",
    "# Licensed under the Apache License, Version 2.0 (the \"License\");\n",
    "# you may not use this file except in compliance with the License.\n",
    "# You may obtain a copy of the License at\n",
    "#\n",
    "# http://www.apache.org/licenses/LICENSE-2.0.txt\n",
    "# \n",
    "# Unless required by applicable law or agreed to in writing, software\n",
    "# distributed under the License is distributed on an \"AS IS\" BASIS,\n",
    "# WITHOUT WARRANTIES OR CONDITIONS OF ANY KIND, either express or implied.\n",
    "# See the License for the specific language governing permissions and\n",
    "# limitations under the License.\n",
    "# \n",
    "#========================================================================="
   ]
  },
  {
   "cell_type": "code",
   "execution_count": null,
   "metadata": {},
   "outputs": [],
   "source": [
    "from ccpi.framework import TestData\n",
    "from ccpi.framework import ImageData, ImageGeometry\n",
    "from ccpi.framework import AcquisitionData, AcquisitionGeometry\n",
    "from ccpi.astra.operators import AstraProjectorSimple \n",
    "\n",
    "import os, sys\n",
    "\n",
    "# define some utilities\n",
    "def get_ideal_sino(N, n_angles):\n",
    "    # initialise loader\n",
    "    loader = TestData(data_dir=os.path.join(sys.prefix, 'share','ccpi'))\n",
    "    data = loader.load(TestData.SIMPLE_PHANTOM_2D, size=(N, N))\n",
    "    # get ImageGeometry\n",
    "    ig = data.geometry\n",
    "\n",
    "    # Create Acquisition data\n",
    "    angles = np.linspace(0, np.pi, n_angles, dtype=np.float32)\n",
    "\n",
    "    ag = AcquisitionGeometry(geom_type = 'parallel',\n",
    "                             dimensions = '2D', \n",
    "                             angles = angles,\n",
    "                             num_pix_h = N)\n",
    "\n",
    "    dev = 'cpu'\n",
    "\n",
    "    Aop = AstraProjectorSimple(ig, ag, dev)    \n",
    "    sino = Aop.direct(data)\n",
    "    return sino.as_array()\n",
    "\n",
    "def get_real_sino(N, n_angles):\n",
    "    \n",
    "    I_0 = 255\n",
    "    cor_offset = 10\n",
    "    \n",
    "    sino = np.roll(get_ideal_sino(N, n_angles), cor_offset, axis = 1)\n",
    "    \n",
    "    flat = np.tile(np.round(I_0-I_0*0.1*np.random.rand(1,N)),(n_angles,1))\n",
    "    dark = np.tile(np.round(I_0*0.05*np.random.rand(1,N)),(n_angles,1))\n",
    "    \n",
    "    flat_noisy = TestData.random_noise(image = flat,\n",
    "                                       mode = 'poisson',\n",
    "                                       clip = False)\n",
    "    \n",
    "    flat_noisy += dark\n",
    "    \n",
    "    proj = flat*np.exp(-sino)\n",
    "    proj_noisy = TestData.random_noise(image = proj,\n",
    "                                       mode = 'poisson',\n",
    "                                       clip = False)\n",
    "    proj_noisy += dark\n",
    "    \n",
    "    return proj_noisy, flat_noisy, dark \n",
    "    "
   ]
  },
  {
   "cell_type": "markdown",
   "metadata": {},
   "source": [
    "## Introduction to reconstruction:\n",
    "### FBP, CGLS\n",
    "\n",
    "### Learning objectives\n",
    "In this notebook you will learn how to set-up analytical (FBP) reconstruction and iterative reconstruction. You will learn the `Algorithm` class, how to set a number of iterations and check intermediate reconstruction results."
   ]
  },
  {
   "cell_type": "markdown",
   "metadata": {},
   "source": [
    "### CT data preprocessing"
   ]
  },
  {
   "cell_type": "markdown",
   "metadata": {},
   "source": [
    "As X-ray photons travel from an X-ray source to detector elements they interact with matter along their trajectories. In these interactions, photons are either absorbed or scattered, resulting in the attenuation of the incident X-ray. A quantitative description of the interaction of X-rays with matter is given by the Beer-Lambert law (or Beer’s law).\n",
    "$$I^{l} = I^0 \\mathrm{exp}\\left( -\\int_{l} f(g) \\mathrm{d}l \\right)$$\n",
    "where $f(g)$ is the X-ray linear attenuation coefficient of the object at the position $g$ along a given linear X-ray trajectory $l$ from the source to the detector element. If $l$ is the entire trajectory from the source to the detector element, then $I^0$ corresponds to the X-ray intensity upon emission from the source and $I^{l}$ corresponds to the X-ray intensity upon incidence on the detector element. $I^{l}$ is typically called a transmission measurement, whereas a projection measurement is given by\n",
    "$$G^{l} = -\\log \\left( \\frac{I^{l}}{I^0} \\right) = \\int_{l} f(g) \\mathrm{d}l$$"
   ]
  },
  {
   "cell_type": "markdown",
   "metadata": {},
   "source": [
    "Ideally, $I^0$ is a single value, but real detector pixels do respond equally to photon flux. Secondly, pixels might have residual charge (so called dark current). Therefore, to convert $I^{l}$ to $G^{l}$, one needs to perform flat field correction. If $I^F$ is a flat field image (acquired with source on, without an object in the field of view) and $I^d$ is a dark field image (acquired with source off), then flat field correction is given by:\n",
    "$$\\frac{I-I^D}{I^F-I^D}$$\n",
    "Let us recall the previous notebook: create `AcquisitionGeometry`, allocate `AcquisitionData`, load sinogram and apply flat and dark-field correction using algebraic operations defined for `DataContainers`. Then, we calculate center of rotation using `CenterOfRotationFinder` and crop the sinogram using `Resizer` to compensate for an offset in the center of rotation."
   ]
  },
  {
   "cell_type": "code",
   "execution_count": null,
   "metadata": {},
   "outputs": [],
   "source": [
    "# imports\n",
    "from ccpi.framework import AcquisitionGeometry, AcquisitionData\n",
    "from ccpi.framework import ImageGeometry, ImageData\n",
    "from ccpi.processors import CenterOfRotationFinder, Resizer\n",
    "import numpy as np\n",
    "import matplotlib.pyplot as plt\n",
    "%matplotlib inline\n",
    "\n",
    "# acquisition angles\n",
    "#n_angles = 90\n",
    "#angles = np.linspace(0, np.pi, n_angles, dtype = np.float32)\n",
    "\n",
    "# number of pixels in detector row\n",
    "#N = 256\n",
    "\n",
    "# pixel size\n",
    "#pixel_size_h = 2\n",
    "\n",
    "# create AcquisitionGeometry\n",
    "#ag = AcquisitionGeometry(geom_type = 'parallel',\n",
    "#                         dimension = '2D',\n",
    "#                         angles = angles,\n",
    "#                         pixel_num_h = N,\n",
    "#                         pixel_size_h = pixel_size_h)\n",
    "\n"
   ]
  },
  {
   "cell_type": "code",
   "execution_count": null,
   "metadata": {},
   "outputs": [],
   "source": [
    "#print('Acquisition geometry:\\n{}'.format(ag_par))\n",
    "#print('Dimension labels:\\n{}'.format(ag_par.dimension_labels))"
   ]
  },
  {
   "cell_type": "code",
   "execution_count": null,
   "metadata": {},
   "outputs": [],
   "source": [
    "# allocate AcquisitionData\n",
    "#ad = ag.allocate()\n",
    "\n",
    "#print('Dimensions and Labels = {}, {}'.format(ad.shape, ad.dimension_labels))"
   ]
  },
  {
   "cell_type": "code",
   "execution_count": null,
   "metadata": {},
   "outputs": [],
   "source": [
    "# pass actual sinogram to AcquisitionData\n",
    "# sinogram_tmp, flat_tmp, dark_tmp = get_real_sino(N, n_angles)\n",
    "# ad_par.fill(sinogram_tmp)\n",
    "\n",
    "# show sinogram \n",
    "# plt.imshow(ad_par.as_array())\n",
    "# plt.show()"
   ]
  },
  {
   "cell_type": "code",
   "execution_count": null,
   "metadata": {},
   "outputs": [],
   "source": [
    "# load flat and dark field images and wrap them as AcquisitionData objects\n",
    "#ag_f = ag.clone()\n",
    "#ag_f.angles = np.array([0], dtype = np.float32)\n",
    "#ag_d = ag_f.clone()\n",
    "#flat = ag_f.allocate()\n",
    "#flat.fill(flat_tmp)\n",
    "#dark = ag_d.allocate()\n",
    "#dark.fill(dark_tmp)\n",
    "\n",
    "# and perform flat field correction and take negative logarithm\n",
    "#sino_full = -log((ad - dark) / (flat - dark))\n",
    "\n",
    "#plt.imshow(ad_par.as_array())\n",
    "#plt.title('raw sino')\n",
    "#plt.show()\n",
    "\n",
    "#plt.imshow(sino_full.as_array())\n",
    "#plt.title('falt-field corrected sinogram')\n",
    "#plt.show()"
   ]
  },
  {
   "cell_type": "code",
   "execution_count": null,
   "metadata": {},
   "outputs": [],
   "source": [
    "# initialise CenterOfRotationFinder\n",
    "#cor = CenterOfRotationFinder()\n",
    "#cor.set_input(sino_full)\n",
    "#center_of_rotation = cor.get_output()\n",
    "#print(center_of_rotation)\n",
    "\n",
    "# initialise Resizer\n",
    "#resizer_crop = Resizer(binning = [1, 1], roi = [-1, (0, center_of_rotation)])\n",
    "# pass DataContainer\n",
    "#resizer_crop.input = sino_full\n",
    "#sino = resizer_crop.process()\n",
    "# get new ImageGeometry\n",
    "#ag_sino = sino.geometry\n",
    "\n",
    "#plt.imshow(sino_full.as_array())\n",
    "#plt.title('full sinogram')\n",
    "#plt.show()\n",
    "\n",
    "#plt.imshow(sino.as_array())\n",
    "#plt.title('cropped sinogram')\n",
    "#plt.show()"
   ]
  },
  {
   "cell_type": "code",
   "execution_count": null,
   "metadata": {},
   "outputs": [],
   "source": [
    "# noise-free sino\n",
    "#ag_ideal = ag.clone()\n",
    "#sino_ideal = ag_ideal.allocate()\n",
    "#sino_ideal.fill(get_ideal_sino(N, n_angles))\n",
    "\n",
    "#plt.imshow(sino_ideal.as_array())\n",
    "#plt.title('noise-free sinogram')\n",
    "#plt.show()"
   ]
  },
  {
   "cell_type": "markdown",
   "metadata": {},
   "source": [
    "Now the data is ready for reconstruction."
   ]
  },
  {
   "cell_type": "markdown",
   "metadata": {},
   "source": [
    "### CT reconstruction\n",
    "Tomographic reconstruction consists of resolving the three-dimensional photon attenuation map of a scanned object from the collection of projection measurement $G^{l}$. There are two major classes of reconstruction algorithms: *analytic* and *iterative*. \n",
    "\n",
    "#### Analytic reconstruction\n",
    "The most common analytic reconstruction algorithm is filtered back-projection (FBP). The FBP algorithm is derived from the Fourier Slice theorem which relates line integral measurements to two dimensional Fourier transform of an object’s slice. Although the Fourier Slice theorem provides straightforward solution for tomographic reconstruction, its practical implementation is challenging due to required interpolation from Polar to Cartesian coordinates in the Fourier space. In FBP-type reconstruction methods, projections are ﬁltered independently and then back-projected onto the plane of the tomographic slice. Filtration is used to compensate for nonuniform sampling of the Fourier space (higher frequencies have higher density of sampling points) by linear (Ramp) weighting of the frequency space."
   ]
  },
  {
   "cell_type": "code",
   "execution_count": null,
   "metadata": {},
   "outputs": [],
   "source": [
    "# imports\n",
    "from ccpi.astra.processors import FBP"
   ]
  },
  {
   "cell_type": "markdown",
   "metadata": {},
   "source": [
    "#### Iterative reconstruction\n",
    "Iterative methods use an initial estimate of volume voxel values which is then iteratively updated to best reproduce acquired radiographic data. Since iterative methods involve forward- and back-projection steps, assumptions about data acquisition can be incorporated into the reconstruction procedure. However, iterative methods are computationally demanding, you will notice that it takes much longer to get reconstruction results with iterative methods."
   ]
  },
  {
   "cell_type": "markdown",
   "metadata": {},
   "source": [
    "$$\\underset{x}{\\mathrm{argmin}}\\begin{Vmatrix}A x - b\\end{Vmatrix}^2_2$$\n",
    "where,\n",
    "- $A$ is the projection operator\n",
    "- $b$ is the acquired data\n",
    "- $x$ is the solution"
   ]
  },
  {
   "cell_type": "code",
   "execution_count": null,
   "metadata": {},
   "outputs": [],
   "source": [
    "#define the operator A\n",
    "device = \"gpu\"\n",
    "operator = AstraProjectorSimple(ig, ag, device)\n",
    "    \n",
    "#setup CGLS\n",
    "x_init = ig.allocate()\n",
    "cgls = CGLS(x_init=x_init, operator=operator, data=data)\n",
    "cgls.max_iteration = 1000\n",
    "cgls.update_objective_interval = 100"
   ]
  },
  {
   "cell_type": "markdown",
   "metadata": {},
   "source": [
    "### Summary"
   ]
  }
 ],
 "metadata": {
  "kernelspec": {
   "display_name": "Python 2",
   "language": "python",
   "name": "python2"
  },
  "language_info": {
   "codemirror_mode": {
    "name": "ipython",
    "version": 2
   },
   "file_extension": ".py",
   "mimetype": "text/x-python",
   "name": "python",
   "nbconvert_exporter": "python",
   "pygments_lexer": "ipython2",
   "version": "2.7.15+"
  }
 },
 "nbformat": 4,
 "nbformat_minor": 2
}
