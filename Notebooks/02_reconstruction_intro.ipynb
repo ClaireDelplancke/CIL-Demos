{
 "cells": [
  {
   "cell_type": "code",
   "execution_count": 5,
   "metadata": {},
   "outputs": [],
   "source": [
    "#========================================================================\n",
    "# Copyright 2019 Science Technology Facilities Council\n",
    "# Copyright 2019 University of Manchester\n",
    "#\n",
    "# This work is part of the Core Imaging Library developed by Science Technology\t\n",
    "# Facilities Council and University of Manchester\n",
    "#\n",
    "# Licensed under the Apache License, Version 2.0 (the \"License\");\n",
    "# you may not use this file except in compliance with the License.\n",
    "# You may obtain a copy of the License at\n",
    "#\n",
    "# http://www.apache.org/licenses/LICENSE-2.0.txt\n",
    "# \n",
    "# Unless required by applicable law or agreed to in writing, software\n",
    "# distributed under the License is distributed on an \"AS IS\" BASIS,\n",
    "# WITHOUT WARRANTIES OR CONDITIONS OF ANY KIND, either express or implied.\n",
    "# See the License for the specific language governing permissions and\n",
    "# limitations under the License.\n",
    "# \n",
    "#========================================================================="
   ]
  },
  {
   "cell_type": "markdown",
   "metadata": {},
   "source": [
    "## Introduction to reconstruction:\n",
    "### FBP, CGLS\n",
    "\n",
    "### Learning objectives\n",
    "In this notebook you will learn how to set-up analytical (FBP) reconstruction and iterative reconstruction. You will learn how to set a number of iterations and check intermediate reconstruction results."
   ]
  },
  {
   "cell_type": "markdown",
   "metadata": {},
   "source": [
    "### CT reconstruction\n",
    "There are two major classes of reconstruction algorithms: *analytic* and *iterative*. The most common analytic reconstruction algorithm is filtered back-projection (FBP). The FBP algorithm is derived from the Fourier Slice theorem which relates line integral measurements to two dimensional Fourier transform of an object’s slice. Although the Fourier Slice theorem provides straightforward solution for tomographic reconstruction, its practical implementation is challenging due to required interpolation from Polar to Cartesian coordinates in the Fourier space. In FBP-type reconstruction methods, projections are ﬁltered independently and then back-projected onto the plane of the tomographic slice. Filtration is used to compensate for nonuniform sampling of the Fourier space (higher frequencies have higher density of sampling points) by linear (Ramp) weighting of the frequency space."
   ]
  },
  {
   "cell_type": "markdown",
   "metadata": {},
   "source": [
    "As X-ray photons travel from an X-ray source to detector elements they interact with matter along their trajectories. In these interactions, photons are either absorbed or scattered, resulting in the attenuation of the incident X-ray. A quantitative description of the interaction of X-rays with matter is given by the Beer-Lambert law (or Beer’s law).\n",
    "$$I^{l} = I^0 \\mathrm{exp}\\left( -\\int_{l} f(g) \\mathrm{d}l \\right)$$\n",
    "where $f(g)$ is the X-ray linear attenuation coefficient of the object at the position $g$ along a given linear X-ray trajectory $l$ from the source to the detector element. If $l$ is the entire trajectory from the source to the detector element, then $I^0$ corresponds to the X-ray intensity upon emission from the source and $I^{l}$ corresponds to the X-ray intensity upon incidence on the detector element. $I^{l}$ is typically called a transmission measurement, whereas a projection measurement is given by\n",
    "$$G^{l} = -\\log \\left( \\frac{I^{l}}{I^0} \\right) = \\int_{l} f(g) \\mathrm{d}l$$"
   ]
  },
  {
   "cell_type": "markdown",
   "metadata": {},
   "source": [
    "Ideally, $I^0$ is a single value, but real detector pixels do respond equally to photon flux. Secondly, pixels might have residual charge (so called dark current). Therefore, to convert $I^{l}$ to $G^{l}$, one needs to perform flat field correction. If $I^F$ is a flat field image (acquired with source on, without an object in the field of view) and $I^d$ is a dark field image (acquired with source off), then flat field correction is given by:\n",
    "$$\\frac{I-I^D}{I^F-I^D}$$"
   ]
  },
  {
   "cell_type": "code",
   "execution_count": null,
   "metadata": {},
   "outputs": [],
   "source": [
    "# load flat and dark field images and wrap them as AcquisitionData objects\n",
    "ag_f = ag.clone()\n",
    "ag_f.angles = np.array([0], dtype = np.float32)\n",
    "ag_d = ag_f.clone()\n",
    "flat = ag_f.allocate()\n",
    "#flat.fill(flat_tmp)\n",
    "dark = ag_d.allocate()\n",
    "#dark.fill(dark_tmp)\n",
    "\n",
    "# and perform flat field correction and take negative logarithm\n",
    "#sino = -log((ad - dark) / (flat - dark))"
   ]
  },
  {
   "cell_type": "code",
   "execution_count": null,
   "metadata": {},
   "outputs": [],
   "source": [
    "# imports\n",
    "from ccpi.framework import ImageData, AcquisitionData\n",
    "from ccpi.framework import ImageGeometry, AcquisitionGeometry\n",
    "from ccpi.astra.processors import FBP\n",
    "from ccpi.framework import TestData\n",
    "from ccpi.optimisation.algorithms import CGLS\n",
    "from ccpi.astra.operators import AstraProjectorSimple\n",
    "\n",
    "import os       \n",
    "import tomophantom\n",
    "from tomophantom import TomoP2D\n",
    "\n",
    "import numpy as np\n",
    "import matplotlib.pyplot as plt"
   ]
  },
  {
   "cell_type": "markdown",
   "metadata": {},
   "source": [
    "Define some utilities for visualisation."
   ]
  },
  {
   "cell_type": "code",
   "execution_count": null,
   "metadata": {},
   "outputs": [],
   "source": [
    "def plot2D(datacontainer1, title1, datacontainer2, title2):\n",
    "    fig, (ax1, ax2) = plt.subplots(1, 2,figsize=(15,15))\n",
    "    plt.subplots_adjust(wspace = 0.5)\n",
    "\n",
    "    ax1.set_title(title1)\n",
    "    subplot1 = ax1.imshow(datacontainer1.as_array())\n",
    "    plt.colorbar(subplot1, ax=ax1,fraction=0.0467, pad=0.02)\n",
    "    \n",
    "    ax2.set_title(title2)\n",
    "    subplot2 = ax2.imshow(datacontainer2.as_array())\n",
    "    plt.colorbar(subplot2, ax=ax2,fraction=0.0467, pad=0.02)\n",
    "    \n",
    "    plt.show()"
   ]
  },
  {
   "cell_type": "markdown",
   "metadata": {},
   "source": [
    "Load data and set-up `AcquisitionGeometry`."
   ]
  },
  {
   "cell_type": "code",
   "execution_count": 2,
   "metadata": {},
   "outputs": [
    {
     "ename": "ImportError",
     "evalue": "No module named tomophantom",
     "output_type": "error",
     "traceback": [
      "\u001b[0;31m---------------------------------------------------------------------------\u001b[0m",
      "\u001b[0;31mImportError\u001b[0m                               Traceback (most recent call last)",
      "\u001b[0;32m<ipython-input-2-13f5e1f7e728>\u001b[0m in \u001b[0;36m<module>\u001b[0;34m()\u001b[0m\n\u001b[1;32m      5\u001b[0m \u001b[0;34m\u001b[0m\u001b[0m\n\u001b[1;32m      6\u001b[0m \u001b[0;32mimport\u001b[0m \u001b[0mos\u001b[0m\u001b[0;34m\u001b[0m\u001b[0;34m\u001b[0m\u001b[0m\n\u001b[0;32m----> 7\u001b[0;31m \u001b[0;32mimport\u001b[0m \u001b[0mtomophantom\u001b[0m\u001b[0;34m\u001b[0m\u001b[0;34m\u001b[0m\u001b[0m\n\u001b[0m\u001b[1;32m      8\u001b[0m \u001b[0;32mfrom\u001b[0m \u001b[0mtomophantom\u001b[0m \u001b[0;32mimport\u001b[0m \u001b[0mTomoP2D\u001b[0m\u001b[0;34m\u001b[0m\u001b[0;34m\u001b[0m\u001b[0m\n\u001b[1;32m      9\u001b[0m \u001b[0;34m\u001b[0m\u001b[0m\n",
      "\u001b[0;31mImportError\u001b[0m: No module named tomophantom"
     ]
    }
   ],
   "source": []
  },
  {
   "cell_type": "code",
   "execution_count": null,
   "metadata": {},
   "outputs": [],
   "source": [
    "# set-up AcquisitionGeometry   \n",
    "N = 256 # set dimension of the phantom\n",
    "n_angles = 180 # number of acquisition angles\n",
    "angles = np.linspace(0, np.pi, n_angles, dtype=np.float32)\n",
    "    \n",
    "ag = AcquisitionGeometry(geom_type = 'parallel',\n",
    "                         dimensions = '2D',\n",
    "                         angles = angles, \n",
    "                         pixel_num_h = N,\n",
    "                         pixel_size_h = 1)\n",
    "\n",
    "# set-up ImageGeometry\n",
    "ig = ImageGeometry(voxel_num_x  = N,\n",
    "                   voxel_size_x = 1,\n",
    "                   voxel_num_x = N,\n",
    "                   voxel_size_y = 1)"
   ]
  },
  {
   "cell_type": "code",
   "execution_count": null,
   "metadata": {},
   "outputs": [],
   "source": [
    "# Load  Shepp-Logan phantom \n",
    "model = 1 # select a model number from the library\n",
    "\n",
    "path = os.path.dirname(tomophantom.__file__)\n",
    "path_library2D = os.path.join(path, \"Phantom2DLibrary.dat\")\n",
    "phantom_2D = TomoP2D.Model(model, N, path_library2D)\n",
    "phantom_sino = TomoP2D.ModelSino(model, N, N, angles, path_library2D)\n",
    "    \n",
    "phantom = ig.allocate()\n",
    "phantom.fill(phantom_2D)\n",
    "\n",
    "sinogram = ag.allocate()\n",
    "sinogram.fill(phantom_sino)\n",
    "\n",
    "plot2D(sinogram, \"sinogram\", phantom, \"phantom\")"
   ]
  },
  {
   "cell_type": "markdown",
   "metadata": {},
   "source": [
    "Iterative methods use an initial estimate of volume voxel values which is then iteratively updated to best reproduce acquired radiographic data. Since iterative methods involve forward- and back-projection steps, assumptions about data acquisition can be incorporated into the reconstruction procedure. However, iterative methods are computationally demanding, you will notice that it takes much longer to get reconstruction results with iterative methods."
   ]
  },
  {
   "cell_type": "markdown",
   "metadata": {},
   "source": [
    "$$\\\\underset{x}{\\\\mathrm{argmin}}\\\\begin{Vmatrix}A x - b\\\\end{Vmatrix}^2_2$$\n",
    "where,\n",
    "- $A$ is the projection operator\n",
    "- $b$ is the acquired data\n",
    "- $x$ is the solution"
   ]
  },
  {
   "cell_type": "code",
   "execution_count": null,
   "metadata": {},
   "outputs": [],
   "source": [
    "#define the operator A\n",
    "device = \"gpu\"\n",
    "operator = AstraProjectorSimple(ig, ag, device)\n",
    "    \n",
    "#setup CGLS\n",
    "x_init = ig.allocate()\n",
    "cgls = CGLS(x_init=x_init, operator=operator, data=data)\n",
    "cgls.max_iteration = 1000\n",
    "cgls.update_objective_interval = 100"
   ]
  },
  {
   "cell_type": "markdown",
   "metadata": {},
   "source": [
    "### Summary"
   ]
  }
 ],
 "metadata": {
  "kernelspec": {
   "display_name": "Python 2",
   "language": "python",
   "name": "python2"
  },
  "language_info": {
   "codemirror_mode": {
    "name": "ipython",
    "version": 2
   },
   "file_extension": ".py",
   "mimetype": "text/x-python",
   "name": "python",
   "nbconvert_exporter": "python",
   "pygments_lexer": "ipython2",
   "version": "2.7.15+"
  }
 },
 "nbformat": 4,
 "nbformat_minor": 2
}
