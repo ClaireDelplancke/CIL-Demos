{
 "cells": [
  {
   "cell_type": "code",
   "execution_count": null,
   "metadata": {},
   "outputs": [],
   "source": [
    "#========================================================================\n",
    "# Copyright 2019 Science Technology Facilities Council\n",
    "# Copyright 2019 University of Manchester\n",
    "#\n",
    "# This work is part of the Core Imaging Library developed by Science Technology\t\n",
    "# Facilities Council and University of Manchester\n",
    "#\n",
    "# Licensed under the Apache License, Version 2.0 (the \"License\");\n",
    "# you may not use this file except in compliance with the License.\n",
    "# You may obtain a copy of the License at\n",
    "#\n",
    "# http://www.apache.org/licenses/LICENSE-2.0.txt\n",
    "# \n",
    "# Unless required by applicable law or agreed to in writing, software\n",
    "# distributed under the License is distributed on an \"AS IS\" BASIS,\n",
    "# WITHOUT WARRANTIES OR CONDITIONS OF ANY KIND, either express or implied.\n",
    "# See the License for the specific language governing permissions and\n",
    "# limitations under the License.\n",
    "# \n",
    "#========================================================================="
   ]
  },
  {
   "cell_type": "markdown",
   "metadata": {},
   "source": [
    "## Tikhonov regularisation using CGLS and block framework\n",
    "Few lines intro"
   ]
  },
  {
   "cell_type": "markdown",
   "metadata": {},
   "source": [
    "**Learning objectives:**\n",
    "1. Construct and manipulate BlockOperators and BlockDataContainer, including direct and adjoint operations and algebra.\n",
    "2. Use Block Framework to solve Tikhonov regularisation with CGLS algorithm.\n",
    "3. Apply Tikhonov regularisation to tomographic reconstruction and explain the effect of regularization parameter and operator in regulariser."
   ]
  },
  {
   "cell_type": "code",
   "execution_count": null,
   "metadata": {},
   "outputs": [],
   "source": [
    "\"\"\" \n",
    "Tikhonov reconstruction using Block CGLS \n",
    "Problem:     min_u alpha * ||\\grad u ||^{2}_{2} + || A u - g ||_{2}^{2}\n",
    "            \n",
    "             ==> Block CGLS\n",
    "             \n",
    "             min_u || \\tilde{A} u - \\tilde{g} ||_{2}^{2}\n",
    "             \n",
    "             \\tilde{A} = [ A,\n",
    "                           alpha * \\grad]\n",
    "             \\tilde{g} = [g,\n",
    "                          0]\n",
    "             A: Projection operator\n",
    "             g: Sinogram\n",
    "\"\"\"\n",
    "\n",
    "\n",
    "from ccpi.framework import ImageGeometry, ImageData, AcquisitionGeometry, BlockDataContainer, AcquisitionData\n",
    "\n",
    "import numpy as np \n",
    "import numpy                          \n",
    "import matplotlib.pyplot as plt\n",
    "\n",
    "from ccpi.optimisation.algorithms import CGLS\n",
    "from ccpi.optimisation.operators import BlockOperator, Gradient, Identity\n",
    "       \n",
    "from ccpi.astra.operators import AstraProjectorSimple \n",
    "import os\n",
    "\n",
    "device = \"cpu\"\n",
    "\n",
    "# Load  Shepp-Logan phantom \n",
    "model = 1 # select a model number from the library\n",
    "N = 64 # set dimension of the phantom\n",
    "#path = os.path.dirname(tomophantom.__file__)\n",
    "#path_library2D = os.path.join(path, \"Phantom2DLibrary.dat\")\n",
    "#phantom_2D = TomoP2D.Model(model, N, path_library2D)\n",
    "\n",
    "ig = ImageGeometry(voxel_num_x = N, voxel_num_y = N)\n",
    "\n",
    "data = numpy.zeros((N,N))\n",
    "data = ImageData(geometry=ig)\n",
    "data = ig.allocate()\n",
    "x = data.as_array()\n",
    "x[round(3*N/8):round(5*N/8),round(N/8):round(7*N/8)] = 0.5\n",
    "x[round(N/8):round(7*N/8),round(3*N/8):round(5*N/8)] = 1.0\n",
    "\n",
    "\n",
    "detectors = N\n",
    "angles = np.linspace(0, np.pi, 128, dtype=np.float32)\n",
    "\n",
    "ag = AcquisitionGeometry('parallel','2D', angles, detectors)\n",
    "\n",
    "Aop = AstraProjectorSimple(ig, ag, device)    \n",
    "sin = Aop.direct(data)\n",
    "noisy_data = AcquisitionData( sin.as_array() + np.random.normal(0,1,ag.shape))\n",
    "#noisy_data = AcquisitionData( sin.as_array() )\n",
    "\n",
    "# Show Ground Truth and Noisy Data\n",
    "\n",
    "fig, (ax1, ax2) = plt.subplots(1, 2,figsize=(10,10))\n",
    "subplot1 = ax1.imshow(data.as_array())\n",
    "ax1.set_title('Ground Truth')\n",
    "subplot2 = ax2.imshow(noisy_data.as_array())\n",
    "ax2.set_title('Noisy Data')\n",
    "plt.colorbar(subplot1, ax=ax1,fraction=0.046, pad=0.04)\n",
    "plt.colorbar(subplot2, ax=ax2,fraction=0.046, pad=0.04)"
   ]
  },
  {
   "cell_type": "code",
   "execution_count": null,
   "metadata": {},
   "outputs": [],
   "source": [
    "# Setup and run the CGLS algorithm  \n",
    "alpha = 2\n",
    "Grad = Gradient(ig)\n",
    "Id = Identity(ig)"
   ]
  },
  {
   "cell_type": "code",
   "execution_count": null,
   "metadata": {},
   "outputs": [],
   "source": [
    "# CGLS simple\n",
    "x_init = ig.allocate()      \n",
    "cgls = CGLS(x_init=x_init, operator=Aop, data=noisy_data)\n",
    "cgls.max_iteration = 1000\n",
    "cgls.update_objective_interval = 50\n",
    "cgls.run(1000, verbose = True)\n",
    "\n",
    "# Show Results and residuals\n",
    "fig, (ax1, ax2) = plt.subplots(1, 2,figsize=(10,10))\n",
    "subplot1 = ax1.imshow(cgls.get_output().as_array())\n",
    "ax1.set_title('CGLS reconstruction')\n",
    "subplot2 = ax2.imshow(cgls.get_output().as_array() - data.as_array())\n",
    "ax2.set_title('Residuals')\n",
    "plt.colorbar(subplot1, ax=ax1,fraction=0.046, pad=0.04)\n",
    "plt.colorbar(subplot2, ax=ax2,fraction=0.046, pad=0.04)\n"
   ]
  },
  {
   "cell_type": "code",
   "execution_count": null,
   "metadata": {},
   "outputs": [],
   "source": [
    "# Form Tikhonov as a Block CGLS structure\n",
    "op_CGLS = BlockOperator( Aop, alpha * Grad, shape=(2,1))\n",
    "block_data = BlockDataContainer(noisy_data, Grad.range_geometry().allocate())\n",
    "\n",
    "x_init = ig.allocate()      \n",
    "cgls = CGLS(x_init=x_init, operator=op_CGLS, data=block_data)\n",
    "cgls.max_iteration = 1000\n",
    "cgls.update_objective_interval = 50\n",
    "cgls.run(1000, verbose = True)\n",
    "\n",
    "# Show Results and residuals\n",
    "fig, (ax1, ax2) = plt.subplots(1, 2,figsize=(10,10))\n",
    "subplot1 = ax1.imshow(cgls.get_output().as_array())\n",
    "ax1.set_title('CGLS reconstruction')\n",
    "subplot2 = ax2.imshow(cgls.get_output().as_array() - data.as_array())\n",
    "ax2.set_title('Residuals')\n",
    "plt.colorbar(subplot1, ax=ax1,fraction=0.046, pad=0.04)\n",
    "plt.colorbar(subplot2, ax=ax2,fraction=0.046, pad=0.04)"
   ]
  },
  {
   "cell_type": "code",
   "execution_count": null,
   "metadata": {},
   "outputs": [],
   "source": []
  },
  {
   "cell_type": "markdown",
   "metadata": {},
   "source": [
    "### Summary"
   ]
  }
 ],
 "metadata": {
  "kernelspec": {
   "display_name": "Python [conda env:.conda-cf114]",
   "language": "python",
   "name": "conda-env-.conda-cf114-py"
  },
  "language_info": {
   "codemirror_mode": {
    "name": "ipython",
    "version": 3
   },
   "file_extension": ".py",
   "mimetype": "text/x-python",
   "name": "python",
   "nbconvert_exporter": "python",
   "pygments_lexer": "ipython3",
   "version": "3.6.7"
  }
 },
 "nbformat": 4,
 "nbformat_minor": 2
}
